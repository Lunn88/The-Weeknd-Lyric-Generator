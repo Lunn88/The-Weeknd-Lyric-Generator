{
 "cells": [
  {
   "cell_type": "markdown",
   "id": "07bb430c",
   "metadata": {},
   "source": [
    "# Split the words"
   ]
  },
  {
   "cell_type": "code",
   "execution_count": 1,
   "id": "6fe95b66",
   "metadata": {},
   "outputs": [],
   "source": [
    "import nltk\n",
    "from nltk.tokenize import word_tokenize\n",
    "from collections import Counter\n",
    "import numpy as np\n",
    "import re"
   ]
  },
  {
   "cell_type": "code",
   "execution_count": 2,
   "id": "184e67aa",
   "metadata": {},
   "outputs": [],
   "source": [
    "lyric_path = \"The Weeknd.txt\"\n",
    "with open(lyric_path, 'r', encoding='utf-8') as f:\n",
    "    lyrics = f.read()"
   ]
  },
  {
   "cell_type": "code",
   "execution_count": 3,
   "id": "3edf910c",
   "metadata": {
    "scrolled": true
   },
   "outputs": [
    {
     "name": "stdout",
     "output_type": "stream",
     "text": [
      "['20, get the bar rollin fake i', '20, get the bar rolling fake i', '20, keep the bar rolling fake i']\n",
      "\n",
      "\n",
      "[['20', 'get', 'the', 'bar', 'rollin', 'fake', 'i'], ['20', 'get', 'the', 'bar', 'rolling', 'fake', 'i'], ['20', 'keep', 'the', 'bar', 'rolling', 'fake', 'i']]\n"
     ]
    }
   ],
   "source": [
    "# Turn all letter into lower letter and split lines by \\n\n",
    "lyrics_list = lyrics.lower().split(\"\\n\")\n",
    "lyrics_list = np.unique(lyrics_list)[1:].tolist()\n",
    "print(lyrics_list[:3])\n",
    "print('\\n')\n",
    "\n",
    "# Split the sentences into words\n",
    "split_lyrics_list = []\n",
    "for lyric in lyrics_list:\n",
    "    # There are some special cases I can't figure out how to match\n",
    "    # So I've to catch them indivudually\n",
    "    pattern = r'fa-la-la-la-la|fa-fallin|-fy|fa-|li-|\\b[\\w,.-]+\\b'\n",
    "    split_lyrics_list.append(re.findall(pattern, lyric))\n",
    "print(split_lyrics_list[:3])"
   ]
  },
  {
   "cell_type": "markdown",
   "id": "0eb6311e",
   "metadata": {},
   "source": [
    "# Tokenize all the words"
   ]
  },
  {
   "cell_type": "code",
   "execution_count": 4,
   "id": "c2a78ff5",
   "metadata": {},
   "outputs": [
    {
     "name": "stdout",
     "output_type": "stream",
     "text": [
      "['20', ',', 'get', 'the', 'bar']\n"
     ]
    }
   ],
   "source": [
    "all_lyrics_text = ' '.join(lyrics_list)\n",
    "tmp_tokens = word_tokenize(all_lyrics_text)\n",
    "\n",
    "tokens = []\n",
    "# word_tokenize can't recognize abbreviation like 'gonna', it will split them into 'gon' 'na'\n",
    "# So I have to merge them manualy\n",
    "for i in range(len(tmp_tokens)):\n",
    "    if tmp_tokens[i] == 'gon' and tmp_tokens[i + 1] == 'na':\n",
    "        tokens.append('gonna')\n",
    "        i += 1\n",
    "        continue\n",
    "    elif tmp_tokens[i] == 'w-' and tmp_tokens[i + 1] == 'wan' and tmp_tokens[i + 2] == 'na':\n",
    "        tokens.append('w-wanna')\n",
    "        i += 2\n",
    "        continue\n",
    "    elif tmp_tokens[i] == 'wan' and tmp_tokens[i + 1] == 'na':\n",
    "        tokens.append('wanna')\n",
    "        i += 1\n",
    "        continue\n",
    "    elif tmp_tokens[i] == 'got' and tmp_tokens[i + 1] == 'ta':\n",
    "        tokens.append('gotta')\n",
    "        i += 1\n",
    "        continue\n",
    "    elif tmp_tokens[i] == 'gim' and tmp_tokens[i + 1] == 'me':\n",
    "        tokens.append('gimme')\n",
    "        i += 1\n",
    "        continue\n",
    "    elif tmp_tokens[i] == 'lem' and tmp_tokens[i + 1] == 'me':\n",
    "        tokens.append('lemme')\n",
    "        i += 1\n",
    "        continue\n",
    "    else:\n",
    "        tokens.append(tmp_tokens[i])\n",
    "        \n",
    "print(tokens[:5])"
   ]
  },
  {
   "cell_type": "markdown",
   "id": "552ea245",
   "metadata": {},
   "source": [
    "# Build word_to_idx and idx_to_word"
   ]
  },
  {
   "cell_type": "code",
   "execution_count": 5,
   "id": "e59c4b33",
   "metadata": {
    "scrolled": true
   },
   "outputs": [
    {
     "name": "stdout",
     "output_type": "stream",
     "text": [
      "{'<pad>': 0, ',': 1, 'i': 2, 'you': 3, 'the': 4, 'to': 5, 'me': 6, 'it': 7, 'a': 8, 'and': 9, 'my': 10, 'yeah': 11, 'oh': 12, 'know': 13, 'your': 14, 'im': 15, 'in': 16, 'that': 17, 'for': 18, 'dont': 19, 'love': 20, 'on': 21, 'all': 22, 'baby': 23, 'no': 24, '?': 25, 'but': 26, 'be': 27, 'ooh': 28, 'just': 29, 'she': 30, 'so': 31, 'of': 32, 'with': 33, 'this': 34, 'like': 35, 'girl': 36, 'when': 37, 'got': 38, 'na': 39, 'we': 40, 'can': 41, 'do': 42, 'what': 43, 'its': 44, 'up': 45, 'youre': 46, 'out': 47, 'is': 48, 'cause': 49, 'if': 50, 'now': 51, 'make': 52, 'wanna': 53, 'want': 54, 'get': 55, 'her': 56, 'been': 57, 'time': 58, '’': 59, 'take': 60, 'go': 61, 'need': 62, 'let': 63, 'feel': 64, 'cant': 65, 'they': 66, 'never': 67, 'say': 68, 'ill': 69, 'one': 70, 'see': 71, 'life': 72, 'aint': 73, 'how': 74, 'not': 75, 'back': 76, 'said': 77, 'down': 78, 'too': 79, 'from': 80, 'woah': 81, 'was': 82, 'hey': 83, 'right': 84, 'tell': 85, 'way': 86, 'have': 87, 'ive': 88, 'more': 89, 'only': 90, 'off': 91, 'night': 92, 'uh': 93, 'again': 94, '*': 95, 'will': 96, 'nigga': 97, 'at': 98, 'keep': 99, 'oh-oh': 100, 'through': 101, 'come': 102, 'heart': 103, 'fuck': 104, 'would': 105, 'call': 106, 'here': 107, 'or': 108, 'man': 109, 'gon': 110, 'ima': 111, 'put': 112, 'are': 113, 'alone': 114, 'try': 115, 'these': 116, 'were': 117, 'shit': 118, 'nah': 119, 'tryna': 120, 'wont': 121, 'away': 122, 'he': 123, 'day': 124, 'give': 125, 'money': 126, 'always': 127, 'why': 128, 'babe': 129, 'ah': 130, 'die': 131, 'nothing': 132, 'o': 133, 'them': 134, 'well': 135, 'every': 136, 'then': 137, 'believe': 138, 'could': 139, 'even': 140, 'gotta': 141, 'ta': 142, 'gone': 143, 'free': 144, 'did': 145, 'hold': 146, 'think': 147, 'where': 148, 't': 149, 'some': 150, 'niggas': 151, 'around': 152, 'eyes': 153, 'there': 154, 'better': 155, 'good': 156, 'show': 157, 'us': 158, 'bout': 159, 'another': 160, 'face': 161, 'as': 162, 'thats': 163, 'find': 164, 'body': 165, 'look': 166, 'nobody': 167, 'who': 168, 'leave': 169, 'long': 170, 'about': 171, 'had': 172, 'still': 173, 'touch': 174, 'by': 175, 'gonna': 176, 'mind': 177, 'made': 178, 'home': 179, 'break': 180, 'high': 181, 'before': 182, 'bitch': 183, 'fall': 184, 'without': 185, 'little': 186, 'ohh': 187, 'stay': 188, 'side': 189, 'ever': 190, 'him': 191, 'god': 192, 'run': 193, 'ride': 194, 'save': 195, 'live': 196, 'used': 197, 'id': 198, 'tonight': 199, 'nothin': 200, 'our': 201, 'real': 202, 'thing': 203, 'myself': 204, 'em': 205, 'm': 206, 'x': 207, 'much': 208, 'inside': 209, 'bring': 210, 'place': 211, 'cry': 212, 'sleep': 213, 'really': 214, 'pain': 215, 'over': 216, 'world': 217, 'pussy': 218, 'hard': 219, 'feeling': 220, 'same': 221, 'something': 222, 'youll': 223, 'than': 224, 'name': 225, 'tears': 226, 'things': 227, 'la': 228, 'thought': 229, 'into': 230, 'everything': 231, 'close': 232, 'bitches': 233, 'girls': 234, 'don': 235, 'low': 236, 'friends': 237, 'talk': 238, 'fuckin': 239, 's': 240, 'oh-oh-oh': 241, 'sky': 242, 'told': 243, 'comin': 244, 'done': 245, 'dark': 246, 'new': 247, 'youve': 248, 'end': 249, 'after': 250, 'didnt': 251, 'hope': 252, 'lie': 253, 'harder': 254, 'shes': 255, 'best': 256, 'might': 257, 'stop': 258, 'trust': 259, 'top': 260, 'talkin': 261, 'often': 262, 'theres': 263, 'am': 264, 'whole': 265, 'though': 266, 'dream': 267, 'lies': 268, 'bag': 269, 'an': 270, 'someone': 271, 'lets': 272, 'somebody': 273, 'til': 274, 'everybody': 275, 'work': 276, 'enough': 277, 'own': 278, 'hit': 279, 'scared': 280, 'two': 281, 'bad': 282, 'left': 283, 'true': 284, 'head': 285, 'wrong': 286, '!': 287, 'house': 288, 'going': 289, 'care': 290, 'goin': 291, 'cold': 292, 'next': 293, 'please': 294, 'while': 295, 'city': 296, 'fucking': 297, 'hear': 298, 'last': 299, 'ooh-ooh': 300, 'friend': 301, 'light': 302, 'hurt': 303, 'soul': 304, 'thursday': 305, 'star': 306, 'loves': 307, 'whoa': 308, 'damn': 309, 'los': 310, 'times': 311, 'woo': 312, 'matter': 313, 'belong': 314, 'young': 315, 'ya': 316, 'cut': 317, 'll': 318, 'watch': 319, 'trying': 320, 'mean': 321, 'phone': 322, 'angeles': 323, 'ayy': 324, 'floor': 325, 'should': 326, 'worth': 327, 'feelings': 328, 'other': 329, 'forget': 330, 'room': 331, 'walk': 332, 'until': 333, 'attention': 334, 'lost': 335, 'lot': 336, 'mine': 337, 'slow': 338, 'else': 339, 'play': 340, 'heard': 341, 'wait': 342, 'lay': 343, 'lose': 344, 'ones': 345, 'turn': 346, 'pop': 347, 'yall': 348, 'kill': 349, 'fun': 350, 'lookin': 351, 'ass': 352, 'those': 353, 'six': 354, 'whats': 355, 'door': 356, 'rather': 357, 'couldnt': 358, 'coming': 359, 'roll': 360, 'boy': 361, 'ready': 362, 'kiss': 363, 'late': 364, 'getting': 365, 'hide': 366, 'tried': 367, 'thinking': 368, 'has': 369, 'remember': 370, 'pull': 371, 'his': 372, 'feelin': 373, 'already': 374, 'imma': 375, 'both': 376, 'shake': 377, 'took': 378, 'lonely': 379, 'went': 380, 'round': 381, 'red': 382, 'their': 383, 'smile': 384, 'understand': 385, 'rain': 386, 'game': 387, 'song': 388, 'three': 389, 'couple': 390, 'l': 391, 'seem': 392, 'open': 393, 'faded': 394, 'fucked': 395, 'somethin': 396, 'ask': 397, 'truth': 398, 'saying': 399, 'swear': 400, 'anymore': 401, 'word': 402, 'dick': 403, 'sex': 404, 'saw': 405, 'v': 406, 'does': 407, 'looking': 408, 'ha-ha-ha-ha-ha': 409, 'hannah': 410, 'fame': 411, 'making': 412, 'since': 413, 'seen': 414, 'came': 415, 'crew': 416, 'breath': 417, 'fallin': 418, 'fight': 419, 'eye': 420, 'ahh': 421, 'feet': 422, 'lights': 423, 'rockin': 424, 'probably': 425, 'heaven': 426, 'deserve': 427, 'felt': 428, 'listen': 429, 'miss': 430, 'okay': 431, 'thoughts': 432, 'pray': 433, 'town': 434, 'living': 435, 'start': 436, 'mouth': 437, 'paranoid': 438, 'loving': 439, 'chill': 440, 'cash': 441, 'breathe': 442, 'thinkin': 443, 'almost': 444, 'numb': 445, 'any': 446, 'many': 447, 'regret': 448, 'behind': 449, 'fill': 450, 'big': 451, 'maybe': 452, 'waste': 453, 'deep': 454, 'livin': 455, 'devil': 456, 'gettin': 457, 'yourself': 458, 'blame': 459, 'loved': 460, 'comes': 461, 'yes': 462, 'void': 463, 'mm-mm': 464, 'full': 465, 'first': 466, 'sure': 467, 'catch': 468, 'moment': 469, 'hurts': 470, 'dreams': 471, 'reason': 472, 'found': 473, 'till': 474, 'ehh': 475, 'type': 476, 'youd': 477, 'easy': 478, 'pay': 479, 'straight': 480, 'hate': 481, 'smoke': 482, 'hoes': 483, 'nights': 484, 'heartless': 485, 'drink': 486, 'broken': 487, 'forever': 488, 'thousand': 489, 'between': 490, 'd': 491, 're': 492, 'fire': 493, 'beautiful': 494, 'help': 495, 'choose': 496, 'power': 497, 'evelyn': 498, 'ooh-ooh-ooh-ooh': 499, 'rolling': 500, 'empty': 501, 'control': 502, 'crazy': 503, 'past': 504, 'paper': 505, 'wanted': 506, 'hes': 507, 'spend': 508, 'makes': 509, 'far': 510, 'move': 511, 'held': 512, 'because': 513, 'together': 514, 'pretend': 515, 'knew': 516, 'fly': 517, 'wet': 518, 'popular': 519, 'pass': 520, 'meet': 521, 'cup': 522, 'truly': 523, 'uno': 524, 'na-na-na-na-na': 525, 'least': 526, 'running': 527, 'worry': 528, 'knows': 529, 'pour': 530, 'broke': 531, 'ways': 532, 'year': 533, 'poppin': 534, 'words': 535, 'check': 536, 'table': 537, 'club': 538, 'leaving': 539, 'business': 540, 'precious': 541, 'fikir': 542, 'fake': 543, 'motherfuckin': 544, 'promise': 545, 'diamonds': 546, 'clothes': 547, 'road': 548, 'arms': 549, 'wants': 550, 'calling': 551, 'dawn': 552, 'half': 553, 'beat': 554, 'price': 555, 'shot': 556, 'starboy': 557, 'test': 558, 'finally': 559, 'queen': 560, 'neck': 561, 'yeah-yeah': 562, 'tomorrow': 563, 'family': 564, 'diamond': 565, 'guy': 566, 'hand': 567, 'apart': 568, 'de': 569, 'chick': 570, 'waiting': 571, 'que': 572, 'hoo': 573, 'na-na-na-na': 574, 'days': 575, 'mé': 576, 'kind': 577, 'souls': 578, 'pictures': 579, 'white': 580, 'change': 581, 'number': 582, 'fix': 583, 'wasnt': 584, 'died': 585, 'mama': 586, 'shell': 587, 'minute': 588, 'burn': 589, 'feels': 590, 'seems': 591, 'part': 592, 'yet': 593, 've': 594, 'sing': 595, 'birthday': 596, 'evelyns': 597, 'p': 598, 'earned': 599, 'lying': 600, 'mad': 601, 'lovin': 602, 'talking': 603, 'sober': 604, 'hands': 605, 'alive': 606, 'na-na-na': 607, 'stand': 608, 'falling': 609, 'doing': 610, 'whos': 611, 'waist': 612, 'swallow': 613, 'skin': 614, 'k': 615, 'taught': 616, 'dance': 617, 'pills': 618, 'legs': 619, 'cum': 620, 'taking': 621, 'most': 622, 'shine': 623, 'embrace': 624, 'anything': 625, 'old': 626, 'party': 627, 'jealous': 628, 'thank': 629, 'fell': 630, 'bed': 631, 'runnin': 632, 'catchin': 633, 'under': 634, 'streets': 635, 'different': 636, 'twenty': 637, 'g': 638, 'colors': 639, 'born': 640, 'metro': 641, 'boys': 642, 'issues': 643, 'outta': 644, 'happy': 645, 'tá': 646, 'such': 647, 'hundred': 648, 'bit': 649, 'tour': 650, 'line': 651, 'spent': 652, 'sin': 653, 'hell': 654, 'nose': 655, 'gave': 656, 'mix': 657, 'heavy': 658, 'rush': 659, 'being': 660, 'remind': 661, 'asked': 662, 'nobodys': 663, 'dollar': 664, 'dirty': 665, 'may': 666, 'scars': 667, 'lead': 668, 'theyll': 669, 'street': 670, 'dead': 671, 'lips': 672, 'crib': 673, 'callin': 674, 'lit': 675, 'suit': 676, 'drugs': 677, 'shame': 678, 'kept': 679, 'widow': 680, 'teach': 681, 'safe': 682, 'ground': 683, 'wake': 684, 'te': 685, 'veins': 686, 'throw': 687, 'married': 688, 'learned': 689, 'steady': 690, 'kids': 691, 'huh': 692, 'holding': 693, 'ooh-woah': 694, 'learn': 695, 'voice': 696, 'brain': 697, 'playin': 698, 'water': 699, 'woke': 700, 'evolving': 701, 'apologize': 702, 'mornin': 703, 'sorry': 704, 'beside': 705, 'once': 706, 'weak': 707, 'outside': 708, 'bags': 709, 'bet': 710, 'spot': 711, 'blood': 712, 'met': 713, 'oh-ooh': 714, 'zone': 715, 'women': 716, 'become': 717, 'means': 718, 'called': 719, 'makin': 720, 'wish': 721, 'blow': 722, 'ma-ma-ma-marry': 723, 'each': 724, 'practice': 725, 'single': 726, 'lotta': 727, 'oooh': 728, 'send': 729, 'morning': 730, 'weed': 731, 'ma': 732, 'glass': 733, 'four': 734, 'drop': 735, 'liquor': 736, 'week': 737, 'peace': 738, 'taste': 739, 'sayin': 740, 'shouldnt': 741, 'decide': 742, 'fool': 743, 'wanderlust': 744, 'goes': 745, 'few': 746, 'aw': 747, 'sheets': 748, 'pullin': 749, 'reasons': 750, 'lied': 751, 'false': 752, 'throwaway': 753, 'bird': 754, '21': 755, 'tongue': 756, 'north': 757, 'alarm': 758, 'pick': 759, 'drowning': 760, 'goddamn': 761, 'lo': 762, 'push': 763, 'touching': 764, 'touchin': 765, 'ooo': 766, 'oo': 767, 'w': 768, 'flight': 769, 'tryin': 770, 'yours': 771, 'agus': 772, 'air': 773, 'kid': 774, 'needs': 775, 'la-da-di-da-da-do': 776, 'must': 777, 'cups': 778, 'ballin': 779, 'sweat': 780, 'strong': 781, 'takin': 782, 'clean': 783, 'doin': 784, 'chance': 785, 'win': 786, 'count': 787, 'prisoner': 788, 'mmm': 789, 'e': 790, 'choices': 791, 'loud': 792, 'hearts': 793, 'step': 794, 'enemy': 795, 'yea': 796, 'second': 797, 'whatever': 798, 'lines': 799, 'bleed': 800, 'tables': 801, 'mess': 802, 'won': 803, 'cryin': 804, 'hella': 805, 'sun': 806, 'shoes': 807, 'bottles': 808, 'either': 809, 'space': 810, 'less': 811, 'lives': 812, 'ten': 813, 'darkest': 814, 'terrified': 815, 'walked': 816, 'lick': 817, 'perfect': 818, 'faith': 819, 'dancin': 820, 'je': 821, 'hah': 822, 'echo': 823, 'judge': 824, 'flow': 825, 'routine': 826, 'sign': 827, 'singing': 828, 'owe': 829, 'today': 830, 'melt': 831, 'destined': 832, 'ag': 833, 'trill': 834, 'sneak': 835, 'woooo': 836, 'bar': 837, 'rollin': 838, 'set': 839, 'million': 840, 'woman': 841, 'noise': 842, 'blunt': 843, 'tú': 844, 'ain': 845, 'demons': 846, 'share': 847, 'begged': 848, 'five': 849, 'pretty': 850, 'closer': 851, 'creepin': 852, 'started': 853, 'led': 854, 'scream': 855, 'werent': 856, 'tellin': 857, 'smoking': 858, 'lean': 859, 'fast': 860, 'coke': 861, 'magic': 862, 'calls': 863, 'singin': 864, 'blowin': 865, 'yesterday': 866, 'moon': 867, 'sip': 868, 'bought': 869, 'sins': 870, 'trade': 871, 'bum': 872, 'throat': 873, 'meant': 874, 'oh-oh-oh-oh': 875, 'middle': 876, 'ice': 877, 'missed': 878, 'pointless': 879, 'people': 880, 'along': 881, 'lil': 882, 'cuz': 883, 'ne': 884, 'y': 885, 'downtown': 886, 'prove': 887, 'twice': 888, 'en': 889, 'pocket': 890, 'beg': 891, 'insane': 892, 'murder': 893, 'honey': 894, 'passed': 895, 'mе': 896, 'continue': 897, 'wrap': 898, 'yo': 899, 'no-no-no': 900, 'release': 901, 'ago': 902, 'poland': 903, 'rest': 904, 'skrrt': 905, 'trap': 906, 'follow': 907, 'dancing': 908, 'purple': 909, 'lately': 910, 'na-na': 911, 'r': 912, 'black': 913, 'war': 914, 'knees': 915, 'shows': 916, 'brand': 917, 'shawty': 918, 'eh': 919, 'blues': 920, 'clear': 921, 'rich': 922, 'wouldnt': 923, 'darkness': 924, 'keeps': 925, 'niggasll': 926, 'closed': 927, 'reality': 928, 'gun': 929, 'years': 930, 'motherfucking': 931, 'shots': 932, 'mm': 933, 'act': 934, 'kick': 935, 'sound': 936, 'angel': 937, 'picture': 938, 'cloud': 939, 'team': 940, 'honest': 941, 'order': 942, 'bathroom': 943, 'chose': 944, 'waitin': 945, 'patient': 946, 'completely': 947, 'hotel': 948, 'blue': 949, 'buy': 950, 'ecstasy': 951, 'months': 952, 'caught': 953, 'hills': 954, 'cake': 955, 'no-no': 956, 'private': 957, 'popped': 958, 'reppin': 959, 'confidence': 960, 'driving': 961, 'car': 962, 'secrets': 963, 'ho': 964, 'shy': 965, 'lust': 966, 'ceilings': 967, 'month': 968, 'mmh': 969, 'simple': 970, 'mixin': 971, 'mo': 972, 'person': 973, 'forgot': 974, 'finish': 975, 'panties': 976, 'sippin': 977, 'slide': 978, 'tag': 979, 'favorite': 980, 'sprung': 981, 'memories': 982, 'chase': 983, 'gold': 984, 'finger': 985, 'bands': 986, 'guess': 987, 'ordinary': 988, 'blowing': 989, 'tight': 990, 'wipe': 991, 'sleeping': 992, 'sacrifice': 993, 'weight': 994, 'fa-la-la-la-la': 995, 'stage': 996, 'fighting': 997, 'professional': 998, 'rock': 999, 'workin': 1000, 'boomin': 1001, 'marry': 1002, 'louder': 1003, 'ooh-ooh-ooh': 1004, 'pas': 1005, 'league': 1006, 'shout': 1007, 'define': 1008, 'yeah-yeah-yeah': 1009, 'hero': 1010, 'watashi': 1011, '20': 1012, 'future': 1013, 'lesser': 1014, 'lord': 1015, 'actin': 1016, 'adjust': 1017, 'rough': 1018, 'bhfuil': 1019, 'double': 1020, 'sold': 1021, 'tease': 1022, 'tattoos': 1023, 'men': 1024, 'oh-woah': 1025, 'stress': 1026, 'basic': 1027, 'bе': 1028, 'lovе': 1029, 'death': 1030, 'pole': 1031, 'weeknd': 1032, 'turned': 1033, 'proud': 1034, 'burning': 1035, 'blind': 1036, 'edge': 1037, 'movie': 1038, 'front': 1039, 'doors': 1040, 'played': 1041, 'nothings': 1042, 'grown': 1043, 'telling': 1044, 'faces': 1045, 'problems': 1046, 'expect': 1047, 'hair': 1048, 'listening': 1049, 'choice': 1050, 'says': 1051, 'birds': 1052, 'hardest': 1053, 'special': 1054, 'distance': 1055, 'deal': 1056, 'ball': 1057, 'spill': 1058, '‘': 1059, 'reach': 1060, 'threesome': 1061, 'mhm': 1062, 'drippin': 1063, 'drinkin': 1064, 'tear': 1065, 'bleeding': 1066, 'killing': 1067, 'dom': 1068, 'wall': 1069, 'boss': 1070, 'burnin': 1071, 'great': 1072, 'main': 1073, 'fans': 1074, 'emptiness': 1075, 'jet': 1076, 'sexy': 1077, 'crowded': 1078, 'wrist': 1079, 'havin': 1080, 'crown': 1081, 'heels': 1082, 'spending': 1083, 'couldve': 1084, 'wit': 1085, 'nine': 1086, 'la-la-la': 1087, 'swish': 1088, 'looked': 1089, 'sooner': 1090, 'bottom': 1091, 'kissing': 1092, 'switch': 1093, 'busy': 1094, 'i-i': 1095, 'motherfucker': 1096, 'zero': 1097, 'lady': 1098, 'raw': 1099, 'crack': 1100, 'tired': 1101, 'starts': 1102, 'c4': 1103, 'wasted': 1104, 'moving': 1105, 'pleurerai': 1106, 'f': 1107, 'valerie': 1108, 'inch': 1109, 'motionless': 1110, 'li-': 1111, 'yene': 1112, 'cali': 1113, 'mission': 1114, 'bill': 1115, 'christmas': 1116, 'virgin': 1117, 'vision': 1118, 'kitchen': 1119, 'models': 1120, 'addicted': 1121, 'hours': 1122, 'short': 1123, 'bottle': 1124, 'trip': 1125, 'trouble': 1126, 'beach': 1127, 'screamin': 1128, 'signs': 1129, 'marriage': 1130, 'foreign': 1131, 'mans': 1132, 'theyre': 1133, 'louis': 1134, 'stuff': 1135, 'chest': 1136, 'rule': 1137, 'worried': 1138, 'flip': 1139, 'seven': 1140, 'doesnt': 1141, 'shorty': 1142, 'boots': 1143, 'hits': 1144, 'exactly': 1145, 'parties': 1146, 'realized': 1147, 'hittin': 1148, 'problem': 1149, 'half-past': 1150, 'slowly': 1151, 'trippin': 1152, 'fault': 1153, 'mother': 1154, 'bend': 1155, 'peak': 1156, 'shits': 1157, 'story': 1158, 'working': 1159, 'walkin': 1160, 'touched': 1161, 'angels': 1162, 'flying': 1163, 'energy': 1164, 'land': 1165, 'alright': 1166, 'point': 1167, '100': 1168, 'plus': 1169, 'hesitate': 1170, 'keys': 1171, 'treat': 1172, 'likе': 1173, 'usually': 1174, 'feed': 1175, 'stories': 1176, 'stone': 1177, 'begin': 1178, 'shower': 1179, 'c': 1180, 'notes': 1181, 'kisses': 1182, 'acquainted': 1183, 'sleepin': 1184, 'slip': 1185, 'momma': 1186, 'selfish': 1187, 'lane': 1188, 'stars': 1189, 'ring': 1190, 'famous': 1191, 'awake': 1192, 'bus': 1193, 'grey': 1194, 'hips': 1195, 'cost': 1196, 'homeless': 1197, 'tie': 1198, 'moments': 1199, 'serious': 1200, 'paint': 1201, 'summer': 1202, 'fancy': 1203, 'ivory': 1204, 'finished': 1205, 'daddy': 1206, 'fantasy': 1207, 'diana': 1208, 'bills': 1209, 'rumors': 1210, 'confused': 1211, 'question': 1212, 'drinking': 1213, 'drivin': 1214, 'drunk': 1215, 'early': 1216, 'les': 1217, 'pa': 1218, 'evictions': 1219, 'j': 1220, 'fore': 1221, 'west': 1222, 'risk': 1223, 'wetter': 1224, 'sweet': 1225, 'superhero': 1226, 'mattress': 1227, 'teeth': 1228, 'higher': 1229, 'favors': 1230, 'later': 1231, 'chains': 1232, 'wear': 1233, 'plan': 1234, 'heal': 1235, 'staring': 1236, 'vegas': 1237, 'claimed': 1238, 'openly': 1239, 'luck': 1240, 'freed': 1241, 'wrapped': 1242, 'freak': 1243, 'aye': 1244, 'cried': 1245, 'moves': 1246, 'cure': 1247, 'ewedihalehu': 1248, 'mask': 1249, 'shouldve': 1250, 'inspiration': 1251, 'reckless': 1252, 'bliss': 1253, 'lover': 1254, 'addiction': 1255, 'findin': 1256, 'mulsanne': 1257, 'sad': 1258, 'isnt': 1259, 'relieve': 1260, 'falls': 1261, 'figure': 1262, 'music': 1263, 'curb': 1264, 'super': 1265, 'n': 1266, 'killer': 1267, 'freezer': 1268, 'chrome': 1269, 'woah-oh-oh': 1270, 'compares': 1271, 'sé': 1272, 'ridin': 1273, 'dangerous': 1274, 'halo': 1275, 'unless': 1276, 'sights': 1277, 'deceiving': 1278, 'stretch': 1279, 'quiet': 1280, 'le': 1281, 'screaming': 1282, 'film': 1283, 'liom': 1284, 'showed': 1285, 'questions': 1286, 'hmm': 1287, 'wide': 1288, 'albums': 1289, 'plane': 1290, 'intentions': 1291, 'hiding': 1292, 'dress': 1293, 'cares': 1294, 'motive': 1295, 'folding': 1296, 'misery': 1297, 'piece': 1298, 'needed': 1299, 'à': 1300, 'accept': 1301, 'everywhere': 1302, 'cross': 1303, 'sea': 1304, 'changed': 1305, 'pound': 1306, 'everyone': 1307, 'sight': 1308, 'fiending': 1309, 'locked': 1310, 'patience': 1311, 'walking': 1312, 'suffering': 1313, 'knowing': 1314, 'snow': 1315, 'poetic': 1316, 'justice': 1317, 'use': 1318, 'bite': 1319, 'damned': 1320, 'shoulda': 1321, 'religion': 1322, 'worked': 1323, 'window': 1324, 'denial': 1325, 'weve': 1326, 'domesticate': 1327, 'shut': 1328, 'goose': 1329, 'heat': 1330, 'above': 1331, 'enter': 1332, 'tragic': 1333, 'loose': 1334, 'rings': 1335, 'loyal': 1336, 'qualified': 1337, 'mom': 1338, 'goodbye': 1339, 'wave': 1340, 'b': 1341, '-mind': 1342, 'store': 1343, 'heel': 1344, 'woo-hoo': 1345, 'con': 1346, 'lemme': 1347, 'cars': 1348, 'calm': 1349, 'pace': 1350, 'studio': 1351, 'represents': 1352, 'gets': 1353, 'camera': 1354, 'toxic': 1355, 'level': 1356, 'racks': 1357, 'vent': 1358, 'passin': 1359, 'pillow': 1360, 'frozen': 1361, 'seat': 1362, 'blunts': 1363, 'evening': 1364, 'greatest': 1365, 'brought': 1366, 'songs': 1367, 'mistake': 1368, 'timе': 1369, 'spendin': 1370, 'dude': 1371, 'ended': 1372, 'joke': 1373, 'none': 1374, 'warm': 1375, 'rent': 1376, 'conversation': 1377, 'ah-ah-ah-ah-ah': 1378, 'surprise': 1379, 'gently': 1380, 'shed': 1381, 'tip': 1382, 'timpeall': 1383, 'stronger': 1384, 'built': 1385, 'boo': 1386, 'fear': 1387, 'ex': 1388, 'cheat': 1389, 'wednesday': 1390, 'belongs': 1391, 'cest': 1392, 'texas': 1393, 'codeine': 1394, 'hot': 1395, 'king': 1396, 'gang': 1397, 'kim': 1398, 'skinny': 1399, 'deeper': 1400, 'shoulder': 1401, 'soon': 1402, 'hangin': 1403, 'pill': 1404, 'diet': 1405, 'quite': 1406, 'sit': 1407, 'small': 1408, 'enjoy': 1409, 'drown': 1410, 'sell': 1411, 'dog': 1412, 'trash': 1413, 'dying': 1414, 'begun': 1415, 'against': 1416, 'raise': 1417, 'eviction': 1418, 'potion': 1419, 'ocean': 1420, 'model': 1421, 'father': 1422, 'artists': 1423, 'fi': 1424, 'respect': 1425, 'climax': 1426, 'trauma': 1427, 'guilt': 1428, 'saturday': 1429, 'eight': 1430, 'chain': 1431, 'hour': 1432, 'plans': 1433, 'thatll': 1434, 'clap': 1435, 'strength': 1436, 'strip': 1437, 'witness': 1438, 'loft': 1439, 'excited': 1440, 'thе': 1441, 'suck': 1442, 'hardly': 1443, 'bougie': 1444, 'nightmares': 1445, 'lo-lo-lo-lo-lo-lo': 1446, 'watches': 1447, 'toes': 1448, 'thirty': 1449, 'visit': 1450, 'tall': 1451, 'fit': 1452, 'paralyzed': 1453, 'recognize': 1454, 'didn': 1455, 'verse': 1456, 'loss': 1457, 'draws': 1458, 'afford': 1459, 'flashing': 1460, 'feat': 1461, 'amazing': 1462, 'watchin': 1463, 'idea': 1464, 'tats': 1465, 'winnin': 1466, 'sacrificed': 1467, 'grind': 1468, 'killin': 1469, 'realize': 1470, 'mistakes': 1471, 'wash': 1472, 'position': 1473, 'known': 1474, 'dawg': 1475, 'art': 1476, 'whenever': 1477, 'guard': 1478, 'husband': 1479, '1000': 1480, 'exist': 1481, 'dice': 1482, 'puttin': 1483, 'military': 1484, 'pants': 1485, 'keepin': 1486, 'withdrawals': 1487, 'grabbin': 1488, 'paradise': 1489, 'smokin': 1490, 'emotions': 1491, 'credit': 1492, 'winter': 1493, 'circles': 1494, 'itd': 1495, 'itll': 1496, 'coach': 1497, 'sidewalks': 1498, '1035': 1499, 'va': 1500, 'legend': 1501, 'waves': 1502, 'lifes': 1503, 'sitting': 1504, 'forced': 1505, 'papi': 1506, 'lyrics': 1507, 'cómo': 1508, 'healed': 1509, 'mm-mm-mm-mm-mm': 1510, 'muy': 1511, 'lindo': 1512, 'instagram': 1513, 'posteas': 1514, 'shade': 1515, 'monday': 1516, 'shop': 1517, 'lavish': 1518, 'ach': 1519, 'féin': 1520, 'cameras': 1521, 'oh-ooh-oh': 1522, 'prays': 1523, 'vea': 1524, 'rushing': 1525, 'nach': 1526, 'hennessy': 1527, 'bentley': 1528, 'si': 1529, 'citys': 1530, 'bigger': 1531, 'mirror': 1532, 'tun': 1533, 'fhios': 1534, 'uh-uh': 1535, 'cooler': 1536, 'honestly': 1537, '-fy': 1538, 'prenup': 1539, 'filled': 1540, 'foundation': 1541, 'mill': 1542, 'pics': 1543, 'knife': 1544, 'quarter': 1545, 'teardrop': 1546, 'sixty': 1547, 'se': 1548, 'abel': 1549, 'pardon': 1550, 'situation': 1551, 'adapted': 1552, 'french': 1553, '$': 1554, 'féidir': 1555, 'able': 1556, 'seeing': 1557, 'dao-la-la-ey': 1558, 'dope': 1559, 'hitting': 1560, 'lamb': 1561, 'rappers': 1562, '&': 1563, 'sinner': 1564, 'homie': 1565, 'girlfriends': 1566, 'although': 1567, 'blinded': 1568, 'testing': 1569, 'nice': 1570, 'amphetamine': 1571, 'stummy': 1572, 'sickly': 1573, 'tenderness': 1574, 'fate': 1575, 'zoning': 1576, 'fair': 1577, 'pure': 1578, 'wrongs': 1579, 'names': 1580, 'return': 1581, 'given': 1582, 'knock': 1583, 'drive': 1584, 'label': 1585, 'peakin': 1586, 'cheap': 1587, 'settle': 1588, 'naughty': 1589, 'lip': 1590, 'anybody': 1591, 'fiend': 1592, 'posted': 1593, 'haunts': 1594, 'constantly': 1595, 'nerves': 1596, 'kinda': 1597, 'mistreat': 1598, 'chasin': 1599, 'relationships': 1600, 'repeat': 1601, 'rewire': 1602, 'smiles': 1603, 'ear': 1604, 'giving': 1605, 'third': 1606, 'wild': 1607, 'funny': 1608, 'mixed': 1609, 'happiness': 1610, 'silence': 1611, 'obsessed': 1612, 'read': 1613, 'fingers': 1614, 'dreamin': 1615, 'hopelessness': 1616, 'heavens': 1617, 'using': 1618, 'paid': 1619, 'tree': 1620, 'rode': 1621, 'ran': 1622, 'issue': 1623, 'muid': 1624, 'dare': 1625, 'pleading': 1626, 'key': 1627, 'familiar': 1628, 'pero': 1629, 'keeper': 1630, 'secure': 1631, 'jam': 1632, 'balling': 1633, 'montana': 1634, 'video': 1635, 'grew': 1636, 'which': 1637, 'gloomy': 1638, 'pieces': 1639, 'thin': 1640, 'beggin': 1641, 'tint': 1642, 'popping': 1643, 'lieve': 1644, 'seats': 1645, 'booze': 1646, 'boogie': 1647, 'box': 1648, 'wagon': 1649, 'happen': 1650, 'target': 1651, 'flowin': 1652, 'drank': 1653, 'shattered': 1654, 'bullshit': 1655, 'fade': 1656, 'rely': 1657, 'sleeps': 1658, 'riding': 1659, 'guns': 1660, 'anytime': 1661, 'texted': 1662, 'warning': 1663, 'instead': 1664, 'breaks': 1665, 'mothers': 1666, 'anyway': 1667, 'became': 1668, 'lyin': 1669, 'leads': 1670, 'evil': 1671, 'fantasies': 1672, 'happens': 1673, 'laugh': 1674, 'ahead': 1675, 'relax': 1676, 'news': 1677, 'beginnin': 1678, 'everyday': 1679, 'son': 1680, 'orm': 1681, 'slept': 1682, 'dryin': 1683, 'temporary': 1684, 'twisted': 1685, 'brings': 1686, 'ce': 1687, 'quon': 1688, 'pulse': 1689, 'cheese': 1690, 'trump': 1691, 'hobby': 1692, 'asian': 1693, 'maybach': 1694, 'cruise': 1695, 'breakfast': 1696, 'cool': 1697, 'commas': 1698, 'decimals': 1699, 'defy': 1700, 'brr': 1701, 'album': 1702, 'droppin': 1703, 'finding': 1704, 'distractin': 1705, 'cocaine': 1706, 'ra': 1707, 'ashamed': 1708, 'supply': 1709, 'kush': 1710, 'warn': 1711, 'further': 1712, 'flaunt': 1713, 'games': 1714, 'brothers': 1715, 'movin': 1716, 'dropped': 1717, 'tags': 1718, 'ds': 1719, 'rooftop': 1720, 'rocket': 1721, 'losin': 1722, 'east': 1723, 'coast': 1724, 'leaves': 1725, 'acts': 1726, 'fan': 1727, 'minds': 1728, 'ritz': 1729, 'jump': 1730, 'bucks': 1731, 'poor': 1732, 'prescription': 1733, 'haunt': 1734, 'comma': 1735, 'sent': 1736, 'guys': 1737, 'self': 1738, 'el': 1739, 'genius': 1740, 'gimme': 1741, 'race': 1742, 'keyboard': 1743, 'brave': 1744, 'tough': 1745, 'murdered': 1746, 'army': 1747, 'likes': 1748, 'swimming': 1749, 'prince': 1750, 'walls': 1751, 'sweating': 1752, 'lo-love': 1753, 'grab': 1754, 'hang': 1755, 'hawái': 1756, 'mis': 1757, 'planes': 1758, 'ebony': 1759, 'morals': 1760, 'wow': 1761, 'heres': 1762, 'clouds': 1763, 'titties': 1764, 'gas': 1765, 'hoping': 1766, 'decision': 1767, 'rolls': 1768, 'twist': 1769, 'howd': 1770, 'hesitation': 1771, 'treats': 1772, 'bump': 1773, 'screen': 1774, 'clearly': 1775, 'ooh-ah': 1776, 'onе': 1777, 'sweatin': 1778, 'henny': 1779, 'visions': 1780, 'millions': 1781, 'caramel': 1782, 'parts': 1783, 'watched': 1784, 'joy': 1785, 'somewhere': 1786, 'secret': 1787, 'sophisticated': 1788, 'refuse': 1789, 'thrill': 1790, 'reminisce': 1791, 'tastes': 1792, 'laying': 1793, 'crying': 1794, 'replace': 1795, 'brag': 1796, 'whеn': 1797, 'pleasure': 1798, 'p1': 1799, 'missin': 1800, 'rise': 1801, 'everytime': 1802, 'base': 1803, 'daily': 1804, 'understood': 1805, 'radio': 1806, 'roam': 1807, 'facin': 1808, 'split': 1809, 'wonder': 1810, 'oblivious': 1811, 'ends': 1812, 'paparazzi': 1813, 'laisse': 1814, 'tomber': 1815, 'filles': 1816, 'law': 1817, 'pulled': 1818, 'fella': 1819, 'monster': 1820, 'villain': 1821, 'ate': 1822, 'plate': 1823, 'camod': 1824, 'articulate': 1825, 'stoppin': 1826, 'bumpin': 1827, 'edition': 1828, 'boat': 1829, 'lifeless': 1830, 'soakin': 1831, 'camo': 1832, 'shooters': 1833, 'bazaar': 1834, 'realest': 1835, 'mood': 1836, 'you-im': 1837, 'baddest': 1838, 'crawlin': 1839, 'strangers': 1840, 'overreact': 1841, 'tore': 1842, 'simply': 1843, '5': 1844, 'philosophy': 1845, 'vibe': 1846, 'mental': 1847, 'savе': 1848, 'pimpin': 1849, 'answer': 1850, 'leash': 1851, 'phase': 1852, 'bileoga': 1853, 'uh-huh': 1854, 'sometimes': 1855, 'no-no-no-no-no': 1856, 'kissed': 1857, 'koto': 1858, 'wa': 1859, 'bien': 1860, 'la-la': 1861, 'pitt': 1862, 'travel': 1863, 'government': 1864, 'classic': 1865, 'attitude': 1866, 'style': 1867, 'lesson': 1868, 'arís': 1869, 'century': 1870, 'amen': 1871, 'h': 1872, 'molly': 1873, 'cracked': 1874, 'code': 1875, 'chasing': 1876, 'tuesday': 1877, 'friday': 1878, 'sunday': 1879, 'grocery': 1880, 'throne': 1881, 'ní': 1882, 'éis': 1883, 'bless': 1884, 'oh-oh-oh-oh-oh': 1885, 'ohh-ohh': 1886, 'pride': 1887, 'aside': 1888, 'sеx': 1889, 'risin': 1890, 'wherе': 1891, 'seventh': 1892, 'p-a-r-t-y': 1893, 'pen': 1894, 'freeze': 1895, 'mercy': 1896, 'prayin': 1897, 'tar': 1898, 'delete': 1899, 'sa': 1900, 'player': 1901, 'dub': 1902, 'seo': 1903, 'catching': 1904, 'superstar': 1905, 'shе': 1906, 'candy': 1907, 'recipe': 1908, 'aid': 1909, 'stix': 1910, 'ending': 1911, 'saved': 1912, 'beyond': 1913, 'specially': 1914, 'compensate': 1915, 'visa': 1916, 'bodies': 1917, 'liked': 1918, 'vicious': 1919, 'everyones': 1920, 'confessions': 1921, 'potential': 1922, 'balmains': 1923, 'sing-along': 1924, 'relate': 1925, 'yachty': 1926, 'tripping': 1927, 'convince': 1928, 'turns': 1929, 'agam': 1930, 'shitte': 1931, 'buzz': 1932, 'seasick': 1933, 'suu': 1934, 'mexico': 1935, 'zombies': 1936, 'science': 1937, 'pros': 1938, 'specialize': 1939, 'hoin': 1940, 'minutes': 1941, 'breakin': 1942, '495': 1943, 'breá': 1944, 'é': 1945, 'nuair': 1946, 'leat': 1947, 'má': 1948, 'fhaigheann': 1949, 'bás': 1950, 'faoi': 1951, 'dheireadh': 1952, 'síocháin': 1953, 'laid': 1954, 'chillin': 1955, 'stick': 1956, 'offense': 1957, 'alcohol': 1958, 'anonymous': 1959, 'loser': 1960, 'map': 1961, 'bass': 1962, 'hеy': 1963, 'grave': 1964, 'swayze': 1965, 'barely': 1966, 'haunted': 1967, 'necessary': 1968, 'drake': 1969, 'thrown': 1970, 'choking': 1971, 'saints': 1972, 'desert': 1973, 'rud': 1974, 'motherfuckers': 1975, 'offered': 1976, 'wind': 1977, 'flesh': 1978, 'expectations': 1979, 'fades': 1980, 'gather': 1981, 'cabs': 1982, 'arena': 1983, 'discotheque': 1984, 'earth': 1985, 'hometown': 1986, 'driver': 1987, 'gangsta': 1988, 'cards': 1989, 'forgive': 1990, 'twinkling': 1991, 'bled': 1992, 'thrills': 1993, 'task': 1994, 'if-if': 1995, 'admit': 1996, 'bein': 1997, 'build': 1998, 'birthplace': 1999, 'note': 2000, 'mark': 2001, 'pro': 2002, 'priceless': 2003, 'kills': 2004, 'sharin': 2005, 'stressin': 2006, 'haunting': 2007, 'pretended': 2008, 'extendo': 2009, 'burns': 2010, 'eternally': 2011, 'mystery': 2012, 'askin': 2013, 'bedside': 2014, 'bone': 2015, 'clever': 2016, 'makeup': 2017, 'exit': 2018, 'taken': 2019, 'bible': 2020, 'resist': 2021, 'appreciates': 2022, 'clocks': 2023, 'pack': 2024, 'certain': 2025, 'naked': 2026, 'flaws': 2027, ':': 2028, 'royals': 2029, 'solutions': 2030, 'blamin': 2031, 'turnin': 2032, 'wraith': 2033, 'tempo': 2034, 'depression': 2035, 'serve': 2036, 'royalty': 2037, 'rum': 2038, 'hairs': 2039, 'hasnt': 2040, 'angelina': 2041, 'apocalypse': 2042, 'gan': 2043, 'digest': 2044, 'ears': 2045, 'spring': 2046, 'argue': 2047, 'bid': 2048, 'lame': 2049, 'petty': 2050, 'cam': 2051, 'roleplay': 2052, 'helped': 2053, 'rushin': 2054, 'soft': 2055, 'forgivin': 2056, 'hanging': 2057, 'careful': 2058, 'takes': 2059, 'worlds': 2060, 'stuck': 2061, 'mainstream': 2062, 'underground': 2063, 'eat': 2064, 'bedroom': 2065, 'actually': 2066, 'begging': 2067, 'bust': 2068, 'ease': 2069, 'venom': 2070, 'blaming': 2071, 'poisoned': 2072, 'rainbows': 2073, '707': 2074, 'stash': 2075, 'bro': 2076, 'defense': 2077, 'bread': 2078, 'sufferin': 2079, 'bud': 2080, 'flower': 2081, 'tower': 2082, 'beans': 2083, 'hole': 2084, 'apprehensiveness': 2085, 'seek': 2086, 'poles': 2087, 'rigid': 2088, 'everybodys': 2089, 'exceptions': 2090, 'glad': 2091, 'gеt': 2092, 'responsible': 2093, 'write': 2094, 'crush': 2095, 'holdin': 2096, 'fallout': 2097, 'spite': 2098, 'intoxicated': 2099, 'score': 2100, 'lungs': 2101, 'cruisin': 2102, 'yacht': 2103, 'wrapping': 2104, 'hollywood': 2105, 'sweetest': 2106, 'drove': 2107, 'vanish': 2108, 'somebodys': 2109, 'cheatin': 2110, 'especially': 2111, 'company': 2112, 'lift': 2113, 'hidin': 2114, 'turning': 2115, '23': 2116, 'memory': 2117, 'cabbed': 2118, 'mike': 2119, 'faucet': 2120, 'blinding': 2121, 'pressure': 2122, 'record': 2123, 'gur': 2124, 'wings': 2125, 'vexed': 2126, 'goddess': 2127, 'expected': 2128, 'desensitized': 2129, 'stuffed': 2130, 'laundry': 2131, 'stupids': 2132, 'dyin': 2133, 'quicker': 2134, 'serotonin': 2135, 'unlike': 2136, 'sense': 2137, 'loyalty': 2138, 'cage': 2139, '17': 2140, 'ans': 2141, 'nеver': 2142, 'rapture': 2143, 'drinks': 2144, 'colder': 2145, 'complaints': 2146, 'flowers': 2147, 'convinced': 2148, 'cookie': 2149, 'cop': 2150, 'corruption': 2151, 'jumping': 2152, 'page': 2153, 'current': 2154, 'total': 2155, 'cro-cross': 2156, 'west-end': 2157, 'benz': 2158, 'cus': 2159, 'bright': 2160, 'da-da-da-da-da-da': 2161, 'dabbin': 2162, 'wax': 2163, 'curse': 2164, 'lone': 2165, 'elses': 2166, 'wealth': 2167, 'silent': 2168, 'asleep': 2169, 'ahora': 2170, 'court': 2171, 'ounce': 2172, 'therapy': 2173, 'row': 2174, 'flick': 2175, 'dodge': 2176, 'brrt': 2177, 'dolla': 2178, 'hers': 2179, 'user': 2180, 'tarnish': 2181, 'dial': 2182, 'visas': 2183, 'tempt': 2184, 'wicked': 2185, 'messing': 2186, 'sake': 2187, 'whiskey': 2188, 'gated': 2189, 'boulevard': 2190, 'blindin': 2191, 'school': 2192, 'glows': 2193, 'duffle': 2194, 'níos': 2195, 'eh-eh': 2196, 'eighty': 2197, 'degrees': 2198, 'elle': 2199, 'est': 2200, 'dans': 2201, 'van': 2202, 'limelight': 2203, 'startin': 2204, 'believin': 2205, 'werе': 2206, 'rean': 2207, 'racing': 2208, 'yah': 2209, 'judgemental': 2210, 'except': 2211, 'f-f-falling': 2212, 'fa-fallin': 2213, 'crowd': 2214, 'enemies': 2215, 'grip': 2216, 'nova': 2217, 'runway': 2218, 'press': 2219, 'speak': 2220, 'purp': 2221, 'fightin': 2222, 'ar': 2223, 'starin': 2224, 'dirk': 2225, 'flashin': 2226, 'flippin': 2227, 'focus': 2228, 'friendship': 2229, 'beauty': 2230, 'force': 2231, 'beds': 2232, 'pee': 2233, 'february': 2234, 'yak': 2235, 'fresh': 2236, 'paying': 2237, 'trick': 2238, 'goons': 2239, 'hipster': 2240, 'futuristic': 2241, 'tailored': 2242, 'g-': 2243, 'rope': 2244, 'pockets': 2245, 'undone': 2246, 'reading': 2247, 'worries': 2248, 'add': 2249, 'image': 2250, 'fifth': 2251, 'rewarded': 2252, 'tropical': 2253, 'book': 2254, 'knocked': 2255, 'rinky': 2256, 'dink': 2257, 'girlfriend': 2258, 'breasts': 2259, 'leg': 2260, 'clubs': 2261, 'thirsty': 2262, 'hail': 2263, 'worldwide': 2264, 'vemo': 2265, 'california': 2266, 'ooh-ahh': 2267, 'mane': 2268, 'cribs': 2269, 'sonic': 2270, 'drownin': 2271, 'abyss': 2272, 'u': 2273, 'lock': 2274, 'lamar': 2275, 'mail': 2276, 'lambo': 2277, 'kicking': 2278, 'losing': 2279, 'benzes': 2280, 'rovers': 2281, 'support': 2282, 'shootin': 2283, 'folk': 2284, 'crushin': 2285, 'cuffin': 2286, 'precinct': 2287, 'personal': 2288, 'dresser': 2289, 'roof': 2290, 'wearing': 2291, 'lo-lo-lo-lo-lo': 2292, 'lo-lo-lo': 2293, 'having': 2294, 'vacacione': 2295, 'redder': 2296, 'nauseous': 2297, 'entertain': 2298, 'tain': 2299, 'welcome': 2300, 'tammy': 2301, 'tracks': 2302, 'amor': 2303, 'klassified': 2304, 'sick': 2305, '45': 2306, '24': 2307, 'jewelry': 2308, 'bimmer': 2309, 'urge': 2310, 'centerpiece': 2311, 'rethink': 2312, 'housewife': 2313, 'sneaky': 2314, 'link': 2315, 'collect': 2316, 'hunnid': 2317, 'fee-fee-fee-fee': 2318, 'shoot': 2319, 'someday': 2320, 'mary': 2321, 'therе': 2322, 'wounds': 2323, 'align': 2324, 'provide': 2325, 'gate': 2326, 'nelly': 2327, 'doubt': 2328, 'wedding': 2329, 'blessing': 2330, 'conceited': 2331, 'vein': 2332, 'woah-oh-oh-oh-oh': 2333, 'manage': 2334, 'o-ooh': 2335, 'text': 2336, 'date': 2337, 'w-wanna': 2338, 'k-know': 2339, 'beef': 2340, 'solve': 2341, '”': 2342, 'searching': 2343, 'mixtape': 2344, 'babе': 2345, 'daft': 2346, 'shaking': 2347, 'nap': 2348, 'wanting': 2349, 'followers': 2350, 'moved': 2351, 'noon': 2352, 'ladies': 2353, 'billions': 2354, 'globe': 2355, 'havent': 2356, 'toughest': 2357, 'stargirl': 2358, 'trigger': 2359, 'trig': 2360, 'eighteen': 2361, 'disguise': 2362, 'missing': 2363, 'motives': 2364, 'see-cret': 2365, 'thatyea': 2366, 'taller': 2367, 'grills': 2368, 'selfie': 2369, 'yee': 2370, 'emeralds': 2371, 'rollie': 2372, 'plenty': 2373, 'woah-oh-oh-oh': 2374, 'passing': 2375, 'prayer': 2376, 'faults': 2377, '3': 2378, 'xan': 2379, 'destiny': 2380, 'fixin': 2381, 'darlin': 2382, 'master': 2383, 'quick': 2384, 'babies': 2385, 'coupe': 2386, 'berlin': 2387, 'watching': 2388, 'wouldn': 2389, 'froze': 2390, 'woah-woah': 2391, 'woo-ooh': 2392, 'bodys': 2393, 'un': 2394, 'jour': 2395, 'toi': 2396, 'laissera': 2397, 'complimentin': 2398, 'offendin': 2399, 'duckin': 2400, 'layin': 2401, 'hurting': 2402, 'ke-keep': 2403, 'asphyxiated': 2404, 'sipping': 2405, 'stacks': 2406, 'plug': 2407, 'undercover': 2408, 'motherfreakin': 2409, 'decisions': 2410, 'remix': 2411, 'horse': 2412, 'flames': 2413, 'all-out': 2414, 'liquid': 2415, 'feenin': 2416, 'focused': 2417, 'fraid': 2418, 'leather': 2419, 'doctor': 2420, 'porsche': 2421, 'heartbeat': 2422, 'material': 2423, 'swim': 2424, 'present': 2425, 'toast': 2426, 'racist': 2427, 'rocking': 2428, 'stunt': 2429, '2': 2430, 'breaking': 2431, 'patronize': 2432, 'fathers': 2433, 'satisfy': 2434, 'meds': 2435, 'perfume': 2436, 'beginning': 2437, 'eliantte': 2438, 'yayo': 2439, '30': 2440, 'dollars': 2441, 'nicki': 2442, 'worst': 2443, 'torn': 2444, 'wife': 2445, 'impress': 2446, 'envy': 2447, 'fortune': 2448, 'frankenstein': 2449, 'hears': 2450, 'intense': 2451, 'brú': 2452, 'involved': 2453, 'thеy': 2454, 'wakin': 2455, 'fine': 2456, 'communicate': 2457, 'natural': 2458, 'unusual': 2459, 'depth': 2460, 'hearin': 2461, 'wasting': 2462, 'stoned': 2463, 'fallen': 2464, 'tequila': 2465, 'x-ray': 2466, 'em-': 2467, 'candlestick': 2468, 'jaw': 2469, 'chorp': 2470, 'sna': 2471, 'case': 2472, 'coppin': 2473, 'grindin': 2474, 'inhibition': 2475, 'yous': 2476, 'backstage': 2477, 'keeping': 2478, 'anyone': 2479, 'kissin': 2480, 'na-na-na-na-na-na': 2481, 'woah-woah-oh-oh': 2482, 'politickin': 2483, 'books': 2484, 'brother': 2485, 'bandit': 2486, 'handle': 2487, 'thеre': 2488, 'ruler': 2489, 'rescue': 2490, 'breather': 2491, 'friction': 2492, 'paris': 2493, 'flame': 2494, 'light-skinned': 2495, 'tape': 2496, 'muse': 2497, 'hi': 2498, 'selena': 2499, 'shaped': 2500, 'balloons': 2501, 'verdad': 2502, 'gift': 2503, 'supposed': 2504, 'vuitton': 2505, 'mindset': 2506, 'snippet': 2507, 'nihilist': 2508, 'job': 2509, 'bored': 2510, 'responsibility': 2511, 'promises': 2512, 'dancings': 2513, 'fosure': 2514, 'mass': 2515, 'fact': 2516, 'holla': 2517, 'rob': 2518, 'messin': 2519, 'carpet': 2520, 'metal': 2521, 'moshpit': 2522, 'whip': 2523, 'milli': 2524, 'hash': 2525, 'flat': 2526, 'mothafuckers': 2527, 'forward': 2528, 'deck': 2529, 'arched': 2530, 'cat': 2531, 'greater': 2532, 'powers': 2533, 'unshackled': 2534, 'unrestrained': 2535, 'fazed': 2536, 'sounding': 2537, 'stopping': 2538, 'competition': 2539, 'rate': 2540, 'talents': 2541, 'non': 2542, 'leading': 2543, 'leaning': 2544, 'service': 2545, 'trapped': 2546, 'career': 2547, 'wrote': 2548, 'bridge': 2549, 'chiallaíonn': 2550, 'mórán': 2551, 'níl': 2552, 'sábháilte': 2553, 'duit': 2554, 'domsa': 2555, 'iarraidh': 2556, 'obsessing': 2557, 'champagne': 2558, 'transition': 2559, 'ooh-ooh-ooh-ooh-ooh': 2560, 'very': 2561, 'tied': 2562, 'dime': 2563, 'bassheads': 2564, 'rolled': 2565, 'suns': 2566, 'ooh-hoo': 2567, 'oooooooh': 2568, 'slidin': 2569, 'owwwwwww': 2570, 'owwwwwwww': 2571, 'owww': 2572, 'wwwwwww': 2573, 'haces': 2574, 'mal': 2575, 'adderall': 2576, 'photoshoots': 2577, 'offended': 2578, 'pair': 2579, 'quit': 2580, 'porque': 2581, 'algo': 2582, 'elevator': 2583, 'protection': 2584, 'roadster': 2585, 'rewind': 2586, 'splash': 2587, 'une': 2588, 'wood': 2589, 'rubbin': 2590, 'ruins': 2591, 'ruin': 2592, 'view': 2593, 'sandpaper': 2594, 'papercut': 2595, 'all-in': 2596, 'wasn': 2597, 'counter': 2598, 'tops': 2599, 'grinnin': 2600, 'sellin': 2601, 'swimmin': 2602, 'sexll': 2603, 'unconditional': 2604, 'givin': 2605, 'fiends': 2606, 'fanbase': 2607, 'mixing': 2608, 'ace': 2609, '“': 2610, 'herself': 2611, 'funeral': 2612, 'g-class': 2613, 'matic': 2614, 'lustin': 2615, 'ok': 2616, 'stacking': 2617, 'glow': 2618, 'frisco': 2619, 'bay-bae': 2620, 'skys': 2621, 'tabs': 2622, 'rendezvous': 2623, 'comfort': 2624, 'overdrive': 2625, 'moans': 2626, '2,000': 2627, 'immune': 2628, 'textin': 2629, 'restart': 2630, 'silently': 2631, 'sources': 2632, 'south': 2633, 'france': 2634, 'spit': 2635, 'strike': 2636, 'rays': 2637, 'panic': 2638, 'puff': 2639, 'takе': 2640, 'bothering': 2641, 'salvation': 2642, 'coachella': 2643, 'hows': 2644, 'season': 2645, 'season200': 2646, 'flyin': 2647, 'cockpit': 2648, 'bladder': 2649, 'seduce': 2650, 'karma': 2651, 'stripper': 2652, 'arent': 2653, 'gaining': 2654, 'tend': 2655, 'complicated': 2656, 'thang': 2657, 'soundin': 2658, 'killed': 2659, 'suddenly': 2660, '90s': 2661, 'legacy': 2662, 'upon': 2663, 'bond': 2664, 'miles': 2665, 'shore': 2666, 'boobs': 2667, 'woahh': 2668, 'replaced': 2669, 'pluck': 2670, 'feathers': 2671, 'range': 2672, 'mansion': 2673, 'ligfidh': 2674, 'isteach': 2675, 'anthems': 2676, 'w-': 2677, 'waken': 2678, 'ga': 2679, 'tsumi': 2680, 'wo': 2681, 'kasanete': 2682, 'kita': 2683, 'anata': 2684, 'inai': 2685, 'laughing': 2686, 'kotae': 2687, 'nado': 2688, 'shitteiru': 2689, 'hazu': 2690, 'nanoni': 2691, 'train': 2692, 'meaning': 2693, 'bae': 2694, 'ah-huh': 2695, 'afraid': 2696, 'dreamed': 2697, 'initially': 2698, 'whe-wheel': 2699, 'stare': 2700, 'unwrappin': 2701, 'final': 2702, 'stared': 2703, 'moaning': 2704, 'miracle': 2705, 'overflow': 2706, 'speaks': 2707, 'lipstick': 2708, 'shakin': 2709, 'llamar': 2710, 'yalnız': 2711, 'gitmekten': 2712, 'yorgunum': 2713, 'yeah-ah': 2714, 'konjo': 2715, 'chilly': 2716, 'fleece': 2717, 'everythings': 2718, 'faggot': 2719, 'notify': 2720, 'grits': 2721, 'hunnids': 2722, 'pow': 2723, 'pesos': 2724, 'deny': 2725, 'mami': 2726, 'thighs': 2727, 'chane-ne': 2728, 'you-you': 2729, 'habit': 2730, 'compelling': 2731, 'fiction': 2732, 'suitcase': 2733, 'strokes': 2734, 'dangerously': 2735, 'prophecies': 2736, 'insecurities': 2737, 'dash': 2738, 'off-year': 2739, 'eve': 2740, 'suspenseful': 2741, 'еxposé': 2742, 'vece': 2743, 'problemas': 2744, 'juntan': 2745, 'nails': 2746, 'aaah': 2747, 'a-a-ah': 2748, 'tesfaye': 2749, 'named': 2750, 'mia': 2751, 'heartbreaks': 2752, 'subscription': 2753, '100ml': 2754, 'alonе': 2755, 'aftеr': 2756, 'amuck': 2757, 'doirt': 2758, 'amach': 2759, 'gásailín': 2760, 'fheiceann': 2761, 'codlata': 2762, 'fheiceáil': 2763, 'bpian': 2764, 'ahh-ooh': 2765, 'dagger': 2766, 'bullet': 2767, 'damage': 2768, 'hanes': 2769, 'balls': 2770, 'kenneth': 2771, 'cole': 2772, 'busiest': 2773, 'lightning': 2774, 'strikes': 2775, 'swae': 2776, 'lee': 2777, 'trained': 2778, 'killas': 2779, 'stussy': 2780, 'blew': 2781, 'propane': 2782, 'kickback': 2783, 'mournful': 2784, 'sound-sound': 2785, 'palm': 2786, 'ignored': 2787, 'specters': 2788, 'lack': 2789, 'cappin': 2790, 'hip-hop': 2791, 'squares': 2792, 'croppin': 2793, 'maluma': 2794, 'spilled': 2795, 'thick': 2796, 'closure': 2797, 'ringin': 2798, 'punt': 2799, 'fourth': 2800, 'bye': 2801, 'mode': 2802, 'rehab': 2803, 'push-scale': 2804, 'amnesia': 2805, 'suim': 2806, 'nialasach': 2807, 'tairisceana': 2808, 't-aon': 2809, 'thuigim': 2810, 'slips': 2811, 'strap': 2812, 'ghouls': 2813, 'tolerated': 2814, 'committed': 2815, 'relapse': 2816, 'experience': 2817, 'opposed': 2818, 'restless': 2819, 'divine': 2820, 'boogaloo': 2821, 'lazy': 2822, 'lecture': 2823, 'demon': 2824, 'salty': 2825, 'bitchin': 2826, 'daylight': 2827, 'outfits': 2828, 'slave': 2829, 'peni': 2830, 'lexus': 2831, 'courage': 2832, 'thinks': 2833, 'grudges': 2834, 'concentrate': 2835, 'graceless': 2836, 'inconsistency': 2837, 'givе': 2838, 'testin': 2839, 'emptied': 2840, 'message': 2841, 'yeaa': 2842, 'yourе': 2843, 'fling': 2844, 'history': 2845, 'maintenance': 2846, 'adderalls': 2847, 'regrеt': 2848, 'regular': 2849, 'nina': 2850, 'swingin': 2851, 'dumber': 2852, 'swing': 2853, 'ruth': 2854, 'stops': 2855, 'violent': 2856, 'scale': 2857, 'pl-please': 2858, 'camera-shy': 2859, 'address': 2860, 'florida': 2861, 'suffer': 2862, 'makеs': 2863, 'nеrves': 2864, 'raising': 2865, 'owned': 2866, 'decade': 2867, 'wildfire': 2868, 'beneath': 2869, 'ness': 2870, 'mindless': 2871, 'heals': 2872, 'beatin': 2873, 'sposed': 2874, 'cynical': 2875, 'gasoline': 2876, 'gasolinе': 2877, 'stranger': 2878, 'backbone': 2879, 'blocked': 2880, 'friendsbout': 2881, 'loaded': 2882, 'removals': 2883, 'dimes': 2884, 'bluetooth': 2885, 'hubby': 2886, 'hub': 2887, 'cap': 2888, 'bacardi': 2889, 'eardrums': 2890, 'compels': 2891, 'blinds': 2892, 'introduction': 2893, 'reached': 2894, 'strippers': 2895, 'fruit': 2896, 'armies': 2897, 'tasting': 2898, 'packaged': 2899, 'shakespeare': 2900, 'linin': 2901, 'invitation': 2902, 'nightmare': 2903, 'elm': 2904, 'doves': 2905, 'tissue': 2906, 'scramble': 2907, 'static': 2908, 'baddie': 2909, 'speedin': 2910, 'dry': 2911, 'indulge': 2912, 'insinuatin': 2913, 'thrill-seek': 2914, 'ru-ruffle': 2915, 'outstanding': 2916, 'reply': 2917, 'seconds': 2918, 'distraction': 2919, 'phantom': 2920, 'monasteries': 2921, 'dóchas': 2922, 'architectural': 2923, 'improvement': 2924, 'rebound': 2925, 'arenas': 2926, 'branches': 2927, 'poplar': 2928, 'arthur': 2929, 'fleminger': 2930, 'chemistry': 2931, 'assumin': 2932, 'influenced': 2933, 'sudden': 2934, 'core': 2935, 'audemar': 2936, 'travis': 2937, 'cactus': 2938, 'automatic': 2939, 'patek': 2940, 'cinematic': 2941, 'kenny': 2942, 'awesome': 2943, 'auction': 2944, 'spray-can': 2945, 'b-b-b-ballin': 2946, 'ba': 2947, 'mhaith': 2948, 'mar': 2949, 'araon': 2950, 'úsachtach': 2951, 'ba-baby': 2952, 'crimes': 2953, 'delay': 2954, 'gotcha': 2955, 'trillions': 2956, 'aborts': 2957, 'kidnaps': 2958, 'hoo-hoo': 2959, 'goner': 2960, 'sympathetic': 2961, 'friendthe': 2962, 'flock': 2963, 'doesn': 2964, 'mumbling': 2965, 'dairy': 2966, 'crevices': 2967, 'hesita-ate': 2968, 'high-heel': 2969, 'eres': 2970, 'feliz': 2971, 'él': 2972, 'bracket': 2973, 'jewels': 2974, 'starry': 2975, 'eyed': 2976, 'backing': 2977, 'dudes': 2978, 'baggy': 2979, 'jean': 2980, 'bleachers': 2981, 'ballin400': 2982, 'bleachers400': 2983, 'primp': 2984, 'bang': 2985, 'gong': 2986, 'baseball': 2987, 'numbers': 2988, 'contracts': 2989, 'stalls': 2990, 'powder': 2991, 'beaming': 2992, 'viral': 2993, 'spoon': 2994, 'audience': 2995, 'idolizing': 2996, 'tellers': 2997, 'symbolism': 2998, 'nature': 2999, 'dimly': 3000, 'interest': 3001, 'hence': 3002, 'clothing': 3003, 'symbolize': 3004, 'crossover': 3005, 'flash': 3006, 'evolve': 3007, 'artist': 3008, 'bruises': 3009, 'jiu-jitsu': 3010, 'beefin': 3011, 'touring': 3012, 'malls': 3013, 'engulfed': 3014, 'blissful': 3015, 'desperately': 3016, 'believing': 3017, 'cognac': 3018, 'hound': 3019, 'fleet': 3020, 'billionaires': 3021, 'buddies': 3022, 'contacts': 3023, 'co-sign': 3024, 'crowdin': 3025, 'jealoustime': 3026, 'covered': 3027, 'blacked': 3028, 'juice': 3029, 'bruised': 3030, 'piru': 3031, 'bloodstains': 3032, 'gowns': 3033, 'trashin': 3034, 'hundreds': 3035, 'swaggy': 3036, 'jacket': 3037, 'blue-ball': 3038, 'bots': 3039, 'dad': 3040, 'pirates': 3041, 'flowing': 3042, 'hustler': 3043, '7': 3044, 'hurtin': 3045, 'miamis': 3046, 'eiffel': 3047, 'bunch': 3048, 'geneva': 3049, 'blowjob': 3050, 'cuddles': 3051, 'atleast': 3052, 'letting': 3053, 'dating': 3054, 'dwell': 3055, 'direct': 3056, 'slamin': 3057, 'completеly': 3058, 'ooh-oh': 3059, 'h-throw': 3060, 'darling': 3061, '110': 3062, 'fired': 3063, 'lawyer': 3064, 'fees': 3065, 'tries': 3066, 'winning': 3067, 'indecisiveness': 3068, 'twelve-year-old': 3069, 'faceless': 3070, 'endеd': 3071, 'facelеss': 3072, 'ah-ooh': 3073, 'consumes': 3074, 'also': 3075, 'totally': 3076, 'subconscious': 3077, 'overtime': 3078, 'filthy': 3079, 'la-da-da-da-da-da-da-da': 3080, 'iwhen': 3081, 'frontin': 3082, 'mic': 3083, 'muddy': 3084, 'tense': 3085, 'matters': 3086, 'value': 3087, 'thoughcause': 3088, 'prob': 3089, 'tricky': 3090, 'sounded': 3091, 'idols': 3092, 'mula': 3093, 'cures': 3094, 'depressin': 3095, 'dreaming': 3096, 'concealed': 3097, 'composure': 3098, 'swayed': 3099, 'defeated': 3100, 'someones': 3101, 'purses': 3102, 'gentlemens': 3103, 'but-but-but': 3104, 'hid': 3105, 'rudolph': 3106, 'myers': 3107, 'fyou': 3108, 'name2019': 3109, 'heartless2020': 3110, 'trenches': 3111, 'himself': 3112, 'ohh-oh-oh': 3113, 'worker': 3114, 'server': 3115, 'pilot': 3116, 'cants': 3117, 'dos': 3118, 'carat': 3119, 'ho-oh-oh-oh': 3120, 'casann': 3121, 'ionas': 3122, 'análú': 3123, 'catalog': 3124, 'legendary': 3125, 'cau-cause': 3126, 'leon': 3127, 'cuffing': 3128, 'thankfully': 3129, 'function': 3130, 'proline': 3131, 'forbidden': 3132, 'humped': 3133, 'solution': 3134, 'rounds': 3135, 'clumsy': 3136, 'replays': 3137, 'keira': 3138, 'knightley': 3139, 'ta-take': 3140, 'take-take': 3141, 'ashes': 3142, 'realitys': 3143, 'commands': 3144, 'clothеs': 3145, 'warned': 3146, 'ducking': 3147, 'piff': 3148, 'potent': 3149, 'leach': 3150, 'photos': 3151, 'freedom': 3152, 'upset': 3153, 'causе': 3154, 'celebrate': 3155, 'cell': 3156, 'centerfold': 3157, 'attraction': 3158, 'sexual': 3159, 'compassion': 3160, 'là': 3161, 'où': 3162, 'lai': 3163, 'aperçue': 3164, 'seule': 3165, 'prête': 3166, 'entamer': 3167, 'ses': 3168, 'tout': 3169, 'entend': 3170, 'changin': 3171, 'surroundin': 3172, 'hopefully': 3173, 'housin': 3174, 'pulsе': 3175, 'midget': 3176, 'necklace': 3177, '69d': 3178, 'precious-weight': 3179, 'pourin': 3180, 'chubbs': 3181, 'cinema': 3182, 'clutchin': 3183, 'deaf': 3184, 'vivid': 3185, 'grand': 3186, 'marnier': 3187, 'tube': 3188, 'um': 3189, 'appoint': 3190, 'nice4000': 3191, 'square': 3192, 'appointment': 3193, 'fleek': 3194, 'flee': 3195, 'commitment': 3196, 'tenants': 3197, 'consider': 3198, 'glasgow': 3199, 'whips': 3200, 'countin': 3201, 'counting': 3202, 'orientation': 3203, 'cover': 3204, 'ups': 3205, 'cristal': 3206, 'timepiece': 3207, 'critics': 3208, 'comatose': 3209, 'snooze': 3210, 'fest': 3211, 'action-packed': 3212, 'smoove': 3213, 'piеces': 3214, 'dab': 3215, 'slab': 3216, 'opium': 3217, 'dallas': 3218, 'austin': 3219, 'san': 3220, 'antonio': 3221, 'dangers': 3222, 'david': 3223, 'carradine': 3224, 'restrain': 3225, 'attaining': 3226, 'dependent': 3227, 'depending': 3228, 'lap': 3229, 'hoo-ayy': 3230, 'baths': 3231, 'birdman': 3232, 'shinin': 3233, 'superpowers': 3234, 'digging': 3235, 'dile': 3236, 'tiempo': 3237, 'mejore': 3238, 'dinners': 3239, 'sprite': 3240, 'toastin': 3241, 'disco': 3242, 'biscus': 3243, 'divorce': 3244, 'buck': 3245, 'planet': 3246, 'moneys': 3247, 'matrix': 3248, 'messy': 3249, 'attach': 3250, 'hersluck': 3251, 'fairytales': 3252, 'rumours': 3253, 'block': 3254, 'crash': 3255, 'blink': 3256, 'crying/': 3257, 'gunshot': 3258, 'writings': 3259, 'x-rays': 3260, 'dine': 3261, 'on–': 3262, 'threaten': 3263, 'gia': 3264, 'еven': 3265, 'dont-and': 3266, '2012': 3267, 'leanin': 3268, 'liter': 3269, 'fishnet': 3270, 'gloves': 3271, 'ugly': 3272, 'random': 3273, 'alizé': 3274, 'cereal': 3275, 'residental': 3276, 'residential': 3277, 'triumph': 3278, 'cullens': 3279, 'nas': 3280, 'wildin': 3281, 'yale': 3282, 'decaf': 3283, 'throwin': 3284, 'ofand': 3285, 'déan': 3286, 'crеidim': 3287, 'mó': 3288, 'maireachtáil': 3289, 'déjame': 3290, 'hablar': 3291, 'porfa': 3292, 'interrumpas': 3293, 'brainstormin': 3294, 'normally': 3295, 'earthquake': 3296, 'hos': 3297, 'eddie': 3298, 'murphy': 3299, 'places': 3300, 'faite': 3301, 'hauts': 3302, 'et': 3303, 'bas': 3304, 'nétait': 3305, 'quune': 3306, 'gamine': 3307, 'embobiné': 3308, 'toile': 3309, 'dévoile': 3310, 'nouveau10': 3311, 'mon': 3312, 'ami': 3313, 'rien': 3314, 'dautre': 3315, 'compte': 3316, 'itself': 3317, 'privileged': 3318, 'escaping': 3319, 'wonderland': 3320, 'esperando': 3321, 'vengas': 3322, 'pressed': 3323, 'consumed': 3324, 'korean': 3325, 'terrifying': 3326, 'accusation': 3327, 'musicians': 3328, 'curtains': 3329, 'sort': 3330, 'dividing': 3331, 'aventadors': 3332, 'basis': 3333, 'hates': 3334, 'rentals': 3335, 'superfantastic': 3336, 'kettle': 3337, 'corn': 3338, 'copy': 3339, 'ex-man': 3340, 'hollering': 3341, 'wheezy': 3342, 'explode': 3343, 'load': 3344, 'doubled': 3345, 'fa-fa-fallin': 3346, 'dozen': 3347, 'colored': 3348, 'potions': 3349, 'keeling': 3350, 'fakes': 3351, 'mimic': 3352, 'sky-y-y': 3353, 'lori': 3354, 'harvey': 3355, 'fashion': 3356, 'fashion-fashion': 3357, 'gripping': 3358, 'feds': 3359, 'bounty': 3360, 'hunters': 3361, 'office': 3362, 'feedin': 3363, 'dirt': 3364, 'ray': 3365, 'intertwining': 3366, 'denims': 3367, 'slipped': 3368, 'fiendin': 3369, 'fillteaim': 3370, 'lámha': 3371, 'thart': 3372, 'mhuineál': 3373, 'lettin': 3374, 'wheel': 3375, 'planned': 3376, 'fishtailin': 3377, 'lightnin': 3378, 'tightenin': 3379, 'strapped': 3380, 'flown': 3381, 'flyer': 3382, 'onra': 3383, 'terror': 3384, 'endure': 3385, 'eternity': 3386, 'fam': 3387, 'choke': 3388, 'promised': 3389, 'fountain': 3390, 'freakier': 3391, 'freaky': 3392, 'duke': 3393, 'jack': 3394, 'statement': 3395, 'thug': 3396, 'gunna': 3397, 'unfoonk': 3398, 'frie-frie-frie-friends': 3399, 'billboards': 3400, 'ft': 3401, 'lauderdale': 3402, 'lags': 3403, 'hat': 3404, 'marijuana': 3405, 'circle': 3406, 'surgeon': 3407, 'fatal': 3408, 'fucks': 3409, 'yep': 3410, 'mmhmm': 3411, 'medicals': 3412, 'several': 3413, 'fumábamo': 3414, 'hookah': 3415, 'pasaba': 3416, 'humo': 3417, 'philip': 3418, 'ron': 3419, 'thesis': 3420, 'stayin': 3421, 'lowkey': 3422, 'gassed': 3423, 'gd': 3424, 'feet-up': 3425, 'ayy88': 3426, 'dapper': 3427, 'dan': 3428, 'clueless': 3429, 'nevеr': 3430, 'sidetracked': 3431, 'timid': 3432, 'tsunami': 3433, 'nami': 3434, 'sunroof': 3435, 'kelly': 3436, 'clarkson': 3437, 'reverb': 3438, 'dessert': 3439, 'drums': 3440, 'onto': 3441, 'tooth': 3442, 'pot': 3443, 'stir': 3444, 'slick': 3445, 'もう待てないよ': 3446, 'pays': 3447, 'nono': 3448, 'satisfied': 3449, 'kimochi': 3450, 'sittin': 3451, 'twenty-one': 3452, 'oh-ohh': 3453, 'deceivin': 3454, 'storm': 3455, 'sucking': 3456, 'stairs': 3457, 'comic': 3458, 'outfit': 3459, 'dressing': 3460, 'decided': 3461, 'pleased': 3462, 'rink-rinky': 3463, 'masochist': 3464, 'creeping': 3465, 'source': 3466, 'littlе': 3467, 'wrists': 3468, 'mod': 3469, 'ash': 3470, 'chaos': 3471, 'bleach': 3472, 'lighting': 3473, 'vacation': 3474, 'park': 3475, 'methazine': 3476, 'baby-by': 3477, 'vemo-mo': 3478, 'gorillas': 3479, 'zoo': 3480, 'grr': 3481, 'blingin': 3482, 'blinging': 3483, 'mein': 3484, 'chickens': 3485, 'popeyes': 3486, 'goals': 3487, 'bouncin': 3488, 'hydraulics': 3489, 'mist': 3490, 'acting': 3491, 'curious': 3492, 'raggin': 3493, 'conn': 3494, 'pippen': 3495, 'candles': 3496, 'payin': 3497, 'sleeve': 3498, 'trappers': 3499, 'hannibal': 3500, 'ceiling': 3501, 'pregnant': 3502, 'lo-lovе': 3503, 'ignorin': 3504, 'suicides': 3505, 'cautious': 3506, 'pornstars': 3507, 'whеre': 3508, 'grade-a': 3509, 'bank': 3510, 'account': 3511, 'a-team': 3512, 'grandma': 3513, 'sowing': 3514, 'seed': 3515, 'growin': 3516, 'growing': 3517, 'lasting': 3518, 'influence': 3519, 'fully': 3520, 'pit': 3521, 'debts': 3522, 'stockpile': 3523, 'gunpowder': 3524, 'rottweilers': 3525, 'woof': 3526, 'brazilian': 3527, 'amazonian': 3528, 'halos': 3529, 'ghost': 3530, 'exists': 3531, 'bothered': 3532, 'memento': 3533, 'havin-havin': 3534, 'goin-goin': 3535, 'felicitacione': 3536, 'fеlicitacione': 3537, 'vacaciones': 3538, 'felicitaciones': 3539, 'extra': 3540, 'packs': 3541, 'sang': 3542, 'unforgiving': 3543, 'meanest': 3544, 'shortys': 3545, 'needing': 3546, 'hood': 3547, 'rep': 3548, 'verdict': 3549, 'heated': 3550, 'hello': 3551, 'hospitality': 3552, 'center': 3553, 'piece20': 3554, 'glowing': 3555, 'intention': 3556, 'cent': 3557, 'freestyle': 3558, 'relive': 3559, 'hermès': 3560, 'pursue': 3561, 'connected': 3562, 'hay': 3563, 'ley': 3564, 'knee': 3565, 'grippin': 3566, 'ongaku': 3567, 'choosin': 3568, 'freakin': 3569, 'rotate': 3570, 'twelve': 3571, 'hitters': 3572, 'forbes': 3573, 'list': 3574, 'hop': 3575, 'hopes': 3576, 'gates': 3577, 'springs': 3578, 'centerpiece20': 3579, 'mates': 3580, 'course': 3581, 'segue': 3582, 'recognized': 3583, 'iove': 3584, 'standing': 3585, 'flop': 3586, 'thеir': 3587, 'compound': 3588, 'washing': 3589, 'liе': 3590, 'appreciate': 3591, 'desires': 3592, 'undressing': 3593, 'cooking': 3594, 'coldest': 3595, 'love-hate': 3596, 'wantin': 3597, 'began': 3598, 'liquors': 3599, 'pistols': 3600, 'bruise': 3601, 'disappear': 3602, 'purgatory': 3603, 'attached': 3604, 'yelling': 3605, 'deconstruction': 3606, 'oscar': 3607, 'explain': 3608, 'fa-': 3609, 'info': 3610, 'rod': 3611, 'looks': 3612, 'gonе': 3613, 'heartbreak': 3614, 'offer': 3615, 'brung': 3616, 'melee': 3617, 'stayed': 3618, 'movies': 3619, 'comment': 3620, 'thi-is': 3621, 'blessin': 3622, 'concern': 3623, 'criticize': 3624, 'deservе': 3625, 'wiz': 3626, 'confine': 3627, 'away2x': 3628, 'away3x': 3629, 'tahaha': 3630, 'impact': 3631, 'ayo': 3632, 'comе': 3633, 'vibes': 3634, 'sеarching': 3635, 'exposed': 3636, 'punk2018': 3637, 'bones': 3638, 'tony': 3639, 'moses': 3640, 'chosen': 3641, 'fadin': 3642, 'throughout': 3643, 'ayy-ayy': 3644, 'aaamaaaa': 3645, 'zzzzingggg': 3646, 'shoulders': 3647, 'useless': 3648, 'i-i-i-i': 3649, 'subject': 3650, 'burdens': 3651, 'hurricanes': 3652, 'wept': 3653, 'powerful': 3654, 'confession': 3655, 'chancin': 3656, 'attracted': 3657, 'trainin': 3658, 'furniture': 3659, 'intestine': 3660, 'sais': 3661, 'quoi': 3662, 'muah': 3663, 'glock': 3664, 'passenger': 3665, 'glimpse': 3666, 'district': 3667, 'persuaded': 3668, 'climbin': 3669, 'bridges': 3670, 'anxious': 3671, 'my–': 3672, 'noises': 3673, 'waist-deep': 3674, 'option': 3675, 'georgetown': 3676, 'milan': 3677, 'signed': 3678, 'mercedes': 3679, 'opps': 3680, 'award': 3681, 'knocking': 3682, 'complacent': 3683, 'piss': 3684, 'temptation': 3685, 'defending': 3686, 'stigma': 3687, 'therеs': 3688, 'torch': 3689, 'to–': 3690, 'еlse': 3691, 'sniff': 3692, 'gangster': 3693, 'controllin': 3694, 'leavin': 3695, 'lеavin': 3696, 'waving': 3697, 'turnt': 3698, 'latеr': 3699, 'stepmother': 3700, 'furthеr': 3701, 'cemented': 3702, 'grow': 3703, 'drawn': 3704, 'sink': 3705, 'guitars': 3706, 'submissive': 3707, 'neve': 3708, 'campbell': 3709, 'love-ination': 3710, 'wan': 3711, 'smartest': 3712, 'poems': 3713, 'dеdicated': 3714, 'breakthrough': 3715, 'provided': 3716, 'jersey': 3717, 'gretzky': 3718, 'skrrt-skrrt': 3719, 'dancer': 3720, 'prayed': 3721, 'mmh-mmh': 3722, 'porn': 3723, 'rental': 3724, 'eight-figure': 3725, 'taxes': 3726, 'section': 3727, 'worse': 3728, 'itvirgin': 3729, 'hd': 3730, 'stressor': 3731, 'purse': 3732, 'grin': 3733, 'fragrance': 3734, 'hol': 3735, 'floors': 3736, 'tours': 3737, 'innocence': 3738, 'innocent': 3739, 'babys': 3740, 'unlock': 3741, 'superstitious': 3742, 'wishes': 3743, 'hatin': 3744, 'seemed': 3745, 'darker': 3746, 'envelope': 3747, 'poem': 3748, 'demise': 3749, 'ohhh-ohh': 3750, 'sobered': 3751, 'plaques': 3752, 'fixing': 3753, 'protect': 3754, 'experiencing': 3755, 'canaries': 3756, 'larry': 3757, 'drag': 3758, 'slay': 3759, 'do-do-do-do-do': 3760, 'functions': 3761, 'sixteen': 3762, 'uhh-ah': 3763, 'advance': 3764, 'ego': 3765, 'journey': 3766, 'masochism': 3767, 'others': 3768, 'smilin': 3769, 'prosper': 3770, 'proper': 3771, 'discretion': 3772, 'dizzy': 3773, 'gillespie': 3774, 'insecure': 3775, 'pops': 3776, 'cops': 3777, 'blessed': 3778, 'shiverin': 3779, 'silly': 3780, 'chokes': 3781, 'straightjacket': 3782, 'kanye': 3783, 'druggies': 3784, 'wore': 3785, 'flag': 3786, 'shown': 3787, 'i-': 3788, 'i-and': 3789, 'iced': 3790, 'economy': 3791, 'symbol': 3792, 'haters': 3793, 'slipping': 3794, 'hybrid': 3795, 'whoa-whoa': 3796, 'saturn': 3797, 'bloomed': 3798, 'hungry': 3799, 'heater': 3800, 'pains': 3801, 'honor': 3802, 'nominee': 3803, 'zaytoven': 3804, 'me-e-e': 3805, 'broadcast': 3806, 'swag': 3807, 'commit': 3808, 'invade': 3809, 'home-my': 3810, 'attack': 3811, 'raised': 3812, 'keep-keep': 3813, 'l-low': 3814, 'wed': 3815, 'ignoring': 3816, 'arrived': 3817, 'eventually': 3818, 'taunt': 3819, 'mushroom': 3820, 'tea': 3821, 'bartender': 3822, 'easier': 3823, 'burnt': 3824, 'state': 3825, 'shinе': 3826, '25': 3827, 'deadbeat': 3828, 'fold': 3829, 'class': 3830, 'lessеr': 3831, 'mother-freakin': 3832, 'soldier': 3833, 'winner': 3834, 'warrior': 3835, 'passionately': 3836, 'weakness': 3837, 'addyd': 3838, 'dragging': 3839, 'topic': 3840, '80k': 3841, 'bear': 3842, 'yards': 3843, 'stardom': 3844, 'fistin': 3845, 'crystals': 3846, 'dozing': 3847, 'feein': 3848, 'constantine': 3849, 'manipulate': 3850, 'concentrated': 3851, 'northern': 3852, 'lace': 3853, 'stark': 3854, 'holistic': 3855, 'treatments': 3856, 'frequently': 3857, 'recognitions': 3858, 'miami': 3859, 'booted': 3860, 'spyder': 3861, 'brains': 3862, 'muhfuckin': 3863, 'perkies': 3864, 'distracted': 3865, 'lens': 3866, 'teen': 3867, 'nah-nah-nah': 3868, 'sour': 3869, 'allowed': 3870, 'embarrassed': 3871, 'expressing': 3872, 'direction': 3873, 'heed': 3874, 'smell': 3875, 'pushin': 3876, 'mothafucka': 3877, 'smashin': 3878, 'mesmerized': 3879, 'sobering': 3880, 'drug': 3881, 'throwing': 3882, 'flood': 3883, 'doorsteps': 3884, 'you-': 3885, 'you-hes': 3886, 'crazier': 3887, 'clues': 3888, 'joint': 3889, 'glue': 3890, 'impatient': 3891, 'talent': 3892, 'miniskirt': 3893, 'torn-up': 3894, 'postcode': 3895, 'succumbed': 3896, 'two-floor': 3897, 'lab': 3898, 'version': 3899, 'night2016': 3900, 'hot-ass': 3901, 'bloods': 3902, 'infatuated': 3903, 'status': 3904, 'insomnia': 3905, 'is\\ufeff': 3906, 'graphic': 3907, 'euphoric': 3908, 'bhíonn': 3909, 'gcónaí': 3910, 'quits': 3911, 'sum': 3912, 'perfеct': 3913, 'dispensable': 3914, 'romantically': 3915, 'faze': 3916, 'hе': 3917, 'vain': 3918, 'romance': 3919, 'prison': 3920, 'aimed': 3921, 'prophecy': 3922, '365': 3923, 'guerillas': 3924, 'ideal': 3925, 'legal': 3926, 'laced': 3927, 'rude': 3928, 'sync': 3929, 'pushaz': 3930, 'inc': 3931, 'seekin': 3932, 'approval': 3933, 'preserves': 3934, 'guilty': 3935, 'yеah': 3936, 'dodgin': 3937, 'six-speed': 3938, 'pained': 3939, 'groove': 3940, 'manipulated': 3941, 'praying': 3942, 'lovеd': 3943, 'backseat': 3944, 'aunties': 3945, 'mamas': 3946, 'sunset': 3947, 'cheer': 3948, 'leak': 3949, 'bumping': 3950, 'cursed': 3951, 'chopstars': 3952, 'hollygrove': 3953, 'e-way': 3954, 'clenching': 3955, 'super-sized': 3956, 'papers': 3957, 'jazzy': 3958, 'jeff': 3959, 'jeans': 3960, 'islands': 3961, 'tigers': 3962, 'jimmys': 3963, 'johnny': 3964, 'depp': 3965, 'crows': 3966, 'cawing': 3967, 'ch-yeah': 3968, 'c-come': 3969, 'interfere': 3970, 'eighth': 3971, 'yeah-ah-ah': 3972, 'ponytail': 3973, 'commercial': 3974, 'o2': 3975, 'step-by-step': 3976, 'effects': 3977, 'sorrows': 3978, 'recollect': 3979, 'shirt': 3980, 'keanu': 3981, 'reeves': 3982, 'speed': 3983, 'laps': 3984, 'x7': 3985, 'secured': 3986, 'hm': 3987, 'fall2015': 3988, 'melody': 3989, 'ho-ohh-ohh-oh': 3990, 'konoyo': 3991, 'sareruno': 3992, 'fukainano': 3993, 'kryptonite': 3994, 'triple': 3995, 'action': 3996, 'smokey': 3997, 'gente': 3998, 'creer': 3999, 'actúas': 4000, 'ese': 4001, 'papel': 4002, 'vie': 4003, 'toujours': 4004, 'facile': 4005, 'lamborghini': 4006, 'crip': 4007, 'prescott': 4008, 'touchdown': 4009, 'politicin': 4010, 'explore': 4011, 'lloyd': 4012, 'jours': 4013, 'défilent': 4014, 'comme': 4015, 'ficelle': 4016, 'leslie': 4017, 'wayne': 4018, 'brad': 4019, 'prizes': 4020, 'boxers': 4021, 'seetheres': 4022, 'makе': 4023, 'firstsa': 4024, 'firsts': 4025, 'león': 4026, 'sipper': 4027, 'getter': 4028, 'puddles': 4029, 'oohlife': 4030, 'trilllife': 4031, 'trillyeah': 4032, 'filmed': 4033, 'independent': 4034, 'erase': 4035, 'limo': 4036, 'moth': 4037, 'mm-mhm-mm': 4038, 'ejector': 4039, 'f-15': 4040, 'die-hard': 4041, 'embers': 4042, 'age': 4043, 'agent': 4044, 'james': 4045, 'dean': 4046, 'jaden': 4047, 'smith': 4048, 'prolly': 4049, 'monte': 4050, 'carlo': 4051, 'acquire': 4052, 'guards': 4053, 'search': 4054, 'anitta': 4055, 'lingerie': 4056, 'spanish': 4057, 'pretty2014': 4058, 'llevo': 4059, 'mucho': 4060, 'sola': 4061, 'hacíamo': 4062, 'ayuna': 4063, 'antes': 4064, 'del': 4065, 'desayuno': 4066, 'local': 4067, 'london': 4068, 'fallopian': 4069, 'deaths': 4070, 'eyelashes': 4071, 'palmin': 4072, 'asset': 4073, 'takeoff': 4074, 'keed': 4075, 'gorgeous': 4076, 'shh': 4077, 'jane': 4078, 'birkin': 4079, 'confident': 4080, 'hoo-ooh': 4081, 'snippets': 4082, 'a2017': 4083, 'reminder': 4084, 'chuid': 4085, 'ama': 4086, 'ard': 4087, 'ma-ma-make': 4088, 'macallan': 4089, 'throats': 4090, 'rail': 4091, 'magazines': 4092, 'legacies': 4093, 'make-beliefs': 4094, 'obvious': 4095, 'destructive': 4096, 'nobodies': 4097, 'fame-status': 4098, 'destruction': 4099, 'interior': 4100, 'camе': 4101, 'sheepskin': 4102, 'enseñas': 4103, 'amar': 4104, 'jordans': 4105, 'medicate': 4106, 'member': 4107, 'former': 4108, 'gala42': 4109, '22': 4110, 'pisces': 4111, 'orthodontist': 4112, 'slowdown': 4113, 'culture': 4114, 'thumb': 4115, 'snappin': 4116, 'drugs-ugs': 4117, 'kickstand': 4118, 'miéntele': 4119, 'todos': 4120, 'tus': 4121, 'seguidore': 4122, 'sale': 4123, 'ear20,000': 4124, 'hidden': 4125, 'insulation': 4126, 'believin300': 4127, 'freezin': 4128, 'money300': 4129, 'monopoly': 4130, 'sections': 4131, 'importantly': 4132, 'mothafucker': 4133, 'spaz': 4134, 'staff': 4135, 'mulhollands': 4136, 'emblem': 4137, 'mustard': 4138, 'postеas': 4139, 'system': 4140, 'habeas': 4141, 'surf': 4142, 'trembles': 4143, 'clock': 4144, 'agrees': 4145, 'whippin': 4146, 'cousin': 4147, 'brim': 4148, 'riot': 4149, 'kevin': 4150, 'costner': 4151, 'skip': 4152, 'bumps': 4153, 'needle': 4154, '\\u200e': 4155, 'backflips': 4156, 'gymnastics': 4157, 'spirits': 4158, 'miracles': 4159, 'specialty': 4160, 'serotonins': 4161, 'ferraris': 4162, 'stride': 4163, 'martin': 4164, 'luther': 4165, 'luthor': 4166, '9': 4167, 'parking': 4168, 'proof': 4169, 'disease': 4170, 'neither': 4171, 'weddin': 4172, 'anna': 4173, 'wintour': 4174, 'toll': 4175, 'wouldve': 4176, 'dough': 4177, 'biggest': 4178, 'nigel': 4179, 'frank': 4180, 'entertainment': 4181, 'haha': 4182, 'approach': 4183, 'atari': 4184, 'yeah-e': 4185, 'ye': 4186, 'hyping': 4187, 'dissin': 4188, 'backdoor': 4189, 'homes': 4190, 'bossed': 4191, 'recruiting': 4192, 'creo': 4193, 'cuando': 4194, 'llame': 4195, 'ignores': 4196, 'luxembourg': 4197, 'hunting': 4198, 'gathering': 4199, 'nations': 4200, 'peso': 4201, 'dreamers': 4202, 'side-bitch': 4203, 'voy': 4204, 'soltar': 4205, 'crawls': 4206, 'stable': 4207, 'toys': 4208, 'lease': 4209, 'mars': 4210, 'angеls': 4211, 'sister': 4212, 'mislead': 4213, 'haves': 4214, 'rocks': 4215, 'charge': 4216, 'tribeca': 4217, 'jay-z': 4218, 'imagine': 4219, 'daughters': 4220, 'madness': 4221, 'eatin': 4222, 'dances': 4223, 'ringing': 4224, 'alcoholic': 4225, 'weekend': 4226, 'postponed': 4227, 'penthouse': 4228, 'tongues': 4229, 'joystick': 4230, 'leavе': 4231, 'softball': 4232, 'filming': 4233, 'ná': 4234, 'lig': 4235, 'imeacht': 4236, 'nílim': 4237, 'buille': 4238, 'chroí': 4239, 'mhothú': 4240, 'bloodwork': 4241, 'invested': 4242, 'dablo': 4243, 'esco': 4244, 'mercenary': 4245, 'aftermaths': 4246, 'thar': 4247, 'october': 4248, 'changing': 4249, 'off-white': 4250, 'officers': 4251, 'imitated': 4252, 'everlastin': 4253, 'results': 4254, 'joinin': 4255, 'yup': 4256, 'd-dont': 4257, 'hey-ey': 4258, 'crеw': 4259, 'breakdown': 4260, 'wheres': 4261, 'sodas': 4262, 'ey': 4263, 'oh-ah': 4264, '1': 4265, 'a-okay': 4266, 'superman': 4267, 'quincy': 4268, 'jones': 4269, 'michael': 4270, 'jackson': 4271, 'voodoo': 4272, 'gum': 4273, 'chewing': 4274, 'bs': 4275, 'prostitute': 4276, 'wordsa': 4277, 'losers': 4278, 'phobic': 4279, 'failing': 4280, 'mes': 4281, 'birdsa': 4282, 'ooee': 4283, 'goddamnit': 4284, 'ooh-yeah': 4285, 'intro': 4286, 'drummers': 4287, 'wi': 4288, 'made-it': 4289, 'ooo-oo': 4290, 'drain': 4291, 'intimate': 4292, 'creep': 4293, 'tickets': 4294, 'oui': 4295, 'jai': 4296, 'pleuré': 4297, 'mais': 4298, 'jour-là': 4299, 'freely': 4300, 'hoo-hoo-hoo': 4301, 'bern': 4302, 'uh-uh-uh': 4303, 'forty-five': 4304, 'drift': 4305, 'twin': 4306, 'fries': 4307, 'cleaner': 4308, 'church': 4309, 'pac': 4310, 'packin': 4311, 'stadiums': 4312, 'painting': 4313, 'dropping': 4314, 'slippin': 4315, 'gin': 4316, 'reflection': 4317, 'vindictive': 4318, 'partially': 4319, 'based': 4320, 'rondo': 4321, 'pad': 4322, 'penelope': 4323, 'cruz': 4324, 'natalie': 4325, 'portman': 4326, 'percocets': 4327, 'platinum': 4328, 'hug': 4329, 'head-game': 4330, 'zeros': 4331, 'overweight': 4332, 'hefty': 4333, 'pop-popular': 4334, 'compra': 4335, 'tengo': 4336, 'contar': 4337, 'trophies': 4338, 'prefiero': 4339, 'tu': 4340, 'vera': 4341, 'unit': 4342, 'tweak': 4343, 'promising': 4344, 'provocative': 4345, 'edgy': 4346, 'thought-provoking': 4347, 'puede': 4348, 'haga': 4349, 'falta': 4350, 'aparentemente': 4351, 'e-systoma': 4352, 'esystoma': 4353, 'puppet': 4354, 'heads': 4355, 'strings': 4356, 'dove': 4357, 'limit': 4358, 'jetski': 4359, 'profit': 4360, 'headache': 4361, 'jungle': 4362, 'quand': 4363, 'putain': 4364, 'colombe': 4365, 'blanche': 4366, 'chante': 4367, 'chanson': 4368, 'quavo': 4369, 'himalayas': 4370, 'overseas': 4371, 'skies': 4372, 'capture': 4373, 'real-real': 4374, 'overwhelmed': 4375, 'bound': 4376, 'stressing': 4377, 'sunny': 4378, 'taints': 4379, 'regrets': 4380, 'rehearse': 4381, 'anger': 4382, 'escape': 4383, 'coat': 4384, 'reminds': 4385, 'reminiscin': 4386, 'kiing': 4387, 'shooter': 4388, 'diesel': 4389, 'mamacita': 4390, 'ringtone': 4391, 'sorayama': 4392, 'cough': 4393, 'spinnin': 4394, 'jay': 4395, 'spinning': 4396, 'apologies': 4397, 'usain': 4398, 'rеminds': 4399, 's-s-sleep': 4400, 'chluiche': 4401, 'dtugtar': 4402, 'saol': 4403, 'saor': 4404, 'aisce': 4405, 'boyfriend': 4406, 'ah-ah-ah-ah': 4407, 'shift': 4408, 'tеars': 4409, 'saving': 4410, 'cutie': 4411, 'signal': 4412, 'afar': 4413, 'scratchin': 4414, 'scratching': 4415, 'showin': 4416, 'remorse': 4417, 'lovers': 4418, 'igloo': 4419, 'rides': 4420, 'frames': 4421, 'erkel': 4422, 'poke': 4423, 'seneler': 4424, 'sürer': 4425, 'günüm': 4426, 'sessions': 4427, 'sharks': 4428, 'shawtys': 4429, 'cold-hearted': 4430, 'femme': 4431, 'fatale': 4432, 'actor': 4433, 'tina': 4434, 'surprised': 4435, 'ghetto': 4436, 'closet': 4437, 'neiman': 4438, 'climbing': 4439, 'forgetting': 4440, 'depend': 4441, 'emotional': 4442, 'edible': 4443, 'lite': 4444, 'wallet': 4445, 'stands': 4446, 'handbag': 4447, 'hypnotize': 4448, 'psychiatrist': 4449, 'psycho': 4450, 'spine': 4451, 'attire': 4452, 'tuition': 4453, 'chip': 4454, 'fears': 4455, 'holiness': 4456, 'recollection': 4457, 'debt': 4458, 'demi': 4459, 'moore': 4460, 'pony': 4461, 'sounds': 4462, 'spaceship': 4463, 'band': 4464, 'mollied': 4465, 'tallied': 4466, 'lusting': 4467, 'repping': 4468, 'stickup': 4469, 'slippery': 4470, 'watery': 4471, 'seas': 4472, 'spilling': 4473, 'alo-oh-oh-ooh': 4474, 'miliar': 4475, 'trickin': 4476, 'tricking': 4477, 'grandmas': 4478, 'clubbing': 4479, 'waits': 4480, 'prestige': 4481, 'introduce': 4482, 'parents': 4483, 'diagnosed': 4484, 'dementia': 4485, 'praecox': 4486, 'institution': 4487, 'co-dependent': 4488, 'works': 4489, 'opened': 4490, 'confidant': 4491, 'confideant': 4492, 'crews': 4493, 'deadly': 4494, 'trecherous': 4495, 'hopping': 4496, 'pine': 4497, 'building': 4498, 'relief': 4499, 'trillest': 4500, 'patron': 4501, 'patrón': 4502, 'doc': 4503, 'mentor': 4504, 'bros': 4505, 'pairs': 4506, 'еdge': 4507, 'después': 4508, 'mí': 4509, 'habrán': 4510, 'más': 4511, 'amores': 4512, 'preguntas': 4513, 'nadie': 4514, 'tiene': 4515, 'culpa': 4516, 'rozas': 4517, 'encenderás': 4518, 'bebé': 4519, 'hice': 4520, 'malo': 4521, 'entonces': 4522, 'discúlpame': 4523, 'si-side': 4524, 'geekin': 4525, 'tees': 4526, 'sipped': 4527, 'nod': 4528, 'stomach': 4529, 'couch': 4530, 'cellphones': 4531, 'sixty-million-dollar': 4532, 'drac': 4533, 'drastic': 4534, 'taylor': 4535, 'lounging': 4536, 'boca': 4537, 'raton': 4538, 'tonights': 4539, 'inner': 4540, 'thigh': 4541, 'woooooh': 4542, 'talked': 4543, 'warmth': 4544, 'unexpected': 4545, 'debit': 4546, 'low-que': 4547, 'weigh': 4548, 'join': 4549, 'complexities': 4550, 'reputation': 4551, 'uncut': 4552, 'hides': 4553, 'unpack': 4554, 'swamped': 4555, 'bih': 4556, 'sparks': 4557, 'poison': 4558, 'soak': 4559, 'ova': 4560, 'frame': 4561, 'depends': 4562, 'somеthing': 4563, 'forgiven': 4564, 'refreshed': 4565, 'souffrant': 4566, 'dun': 4567, 'cœur': 4568, 'brisé': 4569, 'douleur': 4570, 'très': 4571, 'profonde': 4572, 'shutthefuckup': 4573, 'income': 4574, 'monеy': 4575, 'compensatе': 4576, 'spiritual': 4577, 'chakras': 4578, 'frequency': 4579, 'stack': 4580, 'ms': 4581, 'shady': 4582, 'fleeces': 4583, 'standin': 4584, 'tote': 4585, 'trek': 4586, 'khan': 4587, 'punk': 4588, 'ceilin': 4589, 'tuned1035': 4590, 'cheek': 4591, 'dripping': 4592, 'color': 4593, 'poupon': 4594, 'hed': 4595, 'pose': 4596, 'kinfolk': 4597, 'wristbands': 4598, 'suicide': 4599, 'tabloid': 4600, 'cigar': 4601, 'smokes': 4602, 'supermodels': 4603, 'neighbor': 4604, 'suppressing': 4605, 'glitchin': 4606, 'switching': 4607, 'lanes': 4608, 'usual': 4609, 'bubble': 4610, 'bath': 4611, 'reefer': 4612, 'spliff': 4613, 'homies': 4614, 'altitude': 4615, 'na-na-ooh-ooh': 4616, 'gratulation': 4617, 'public': 4618, 'masterpiecemasterpiece': 4619, 'families': 4620, 'numbin': 4621, 'roses': 4622, 'assists': 4623, 'numbing': 4624, 'snuff': 4625, 'technically': 4626, 'visually': 4627, 'stunning': 4628, 'dim': 4629, 'cuddle': 4630, 'toe': 4631, 'nasty': 4632, 'cockiness': 4633, 'police': 4634, 'caution': 4635, 'operation': 4636, 'temperature': 4637, 'united': 4638, 'tesla': 4639, 'tesla-tesla': 4640, 'scratches': 4641, 'surface': 4642, '=to': 4643, 'brokе': 4644, 'troubled': 4645, 'luxe': 4646, 'official': 4647, 'capable': 4648, 'riveting': 4649, 'stunting': 4650, 'stuntin': 4651, 'typa': 4652, '1-800-444-4444': 4653, 'seriously': 4654, 'approachable': 4655, 'afternoon': 4656, 'spreads': 4657, 'sail': 4658, 'exotic': 4659, 'bizarre': 4660, 'sh-yeah': 4661, 'fliest': 4662, 'climb': 4663, 'nowhere': 4664, 'merrier': 4665, 'station': 4666, 'adore': 4667, 'еver': 4668, 'celebration': 4669, 'partys': 4670, 'wa-wasnt': 4671, 'scarface': 4672, 'loins': 4673, 'rari': 4674, 'birth': 4675, 'ageless': 4676, 'astronomer': 4677, 'tuxedos': 4678, '40': 4679, 'belows': 4680, '1-800-414-4444': 4681, 'fixed': 4682, 'hypnotized': 4683, 'uhh': 4684, 'exes': 4685, 'meexes': 4686, 'ohhhh': 4687, 'whispers': 4688, 'wildest': 4689, 'nostradamus': 4690, 'drake2013': 4691, 'phony': 4692, 'favor': 4693, 'capital': 4694, 'clеan': 4695, 'track': 4696, 'rooms': 4697, 'wished': 4698, 'describe': 4699, 'indifference': 4700, 'reveal': 4701, 'lifе': 4702, 'plottin': 4703, 'nineties': 4704, 'ratchet': 4705, 'flexing': 4706, 'flexin': 4707, 'flinched': 4708, '-': 4709, 'fronted': 4710, 'accustomed': 4711, 'petals': 4712, 'nip': 4713, 'lake': 4714, 'placid': 4715, 'nation': 4716, 'meltin': 4717, 'kindness': 4718, 'medicine': 4719, 'parade': 4720, 'victory': 4721, 'shared': 4722, 'searchin': 4723, 'b-bout': 4724, 'revenge': 4725, 'mmh-mmh-mmh-mmh': 4726, 'zombie': 4727, 'sedated': 4728, 'predicament': 4729, 'impossible': 4730, 'unique': 4731, 'trilogy': 4732, 'disappoint': 4733, 'sincerely': 4734, 'substance': 4735, 'purpose': 4736, 'arrangements': 4737, 'float': 4738, 'three-hundred-thousand': 4739, 'richard': 4740, 'mille': 4741, 'credits': 4742, 'brush': 4743, 'blackbirds': 4744, 'timpеall': 4745, 'théann': 4746, 'unacceptable': 4747, '379': 4748, 'shipping': 4749, 'handling': 4750, 'seein': 4751, '12': 4752, 'na-na-na-duh-na': 4753, 'kahlua': 4754, 'milk': 4755, 'ambiance': 4756, 'perm': 4757, 'hallway': 4758, 'bestie': 4759, 'bury': 4760, 'ground-ground': 4761, 'trone': 4762, 'hangover': 4763, 'granted': 4764, 'mate': 4765, 'condo': 4766, 'national': 4767, 'geographic': 4768, 'grill': 4769, 'honesty': 4770, 'dyke': 4771, 'sacred': 4772, 'chi': 4773, 'еnough': 4774, 'sane': 4775, 'full-time': 4776, 'savage': 4777, 'webcam': 4778, 'hahahahaha': 4779, 'lived': 4780, 'twenty-five': 4781, 'serving': 4782, 'twisting': 4783, 'puffs': 4784, 'ahold': 4785, 'aon': 4786, 'ina': 4787, 'dhiaidh': 4788, 'faide': 4789, 'dul': 4790, 'dtí': 4791, 'glaoch': 4792, 'agat': 4793, 'mise': 4794, 'chreideamh': 4795, 'chailleadh': 4796, 'magadh': 4797, 'faoin': 4798, 'ngealach': 4799, 'codladh': 4800, 'stánadh': 4801, 'duibheagán': 4802, 'titim': 4803, 'bhfolús': 4804, 'táim': 4805, 'breathnú': 4806, 'fuimo': 4807, 'underneath': 4808, 'hablo': 4809, 'unpackin': 4810, 'tunnels': 4811, 'unruly': 4812, 'calabasas': 4813, 'rap': 4814, 'lofts': 4815, 'bando': 4816, 'slouch': 4817, 'valhallas': 4818, 'righteous': 4819, 'evеry': 4820, 'screams': 4821, 'shakes': 4822, 'voices': 4823, 'hickies': 4824, 'waking': 4825, 'wanna-be': 4826, 'lifestyle': 4827, 'records': 4828, 'dissonant': 4829, 'chord': 4830, 'strumming': 4831, 'wastin': 4832, 'kako': 4833, 'nando': 4834, 'naka': 4835, 'ni': 4836, 'haittekuru': 4837, 'okorasenaide': 4838, 'hoshii': 4839, 'lessen': 4840, 'cream': 4841, 'affair': 4842, 'crave': 4843, 'shoppin': 4844, 'pew': 4845, 'hung': 4846, 'toasts': 4847, 'toasted': 4848, 'outcome': 4849, 'cute': 4850, 'revved': 4851, 'goodbyes': 4852, 'celebratin': 4853, 'bowl': 4854, 'trippy': 4855, 'ye-ah': 4856, 'brazy': 4857, 'guide': 4858, 'painless': 4859, 'babygirl': 4860, 'habits': 4861, 'fantasized': 4862, 'divided': 4863, 'cadillacs': 4864, 'disguised': 4865, 'tune': 4866, 'humming': 4867, 'fry': 4868, 'stroke': 4869, 'when\\ufeff': 4870, 'caps': 4871, 'brownest': 4872, 'botherin': 4873, 'followin': 4874, 'following': 4875, 'sucker': 4876, 'whore': 4877, 'bussin': 4878, 'forehead': 4879, 'whatd': 4880, 'safely': 4881, 'swore': 4882, 'mil': 4883, 'safest': 4884, 'woah-oh-woah': 4885, 'look-lookin': 4886, 'believе': 4887, 'apollo': 4888, 'ls': 4889, 'bathed': 4890, 'grace': 4891, 'collection': 4892, 'series': 4893, 'followed': 4894, 'behave': 4895, 'grinding': 4896, 'x5': 4897, 'roxx': 4898, 'ashley': 4899, 'niks': 4900, 'ezee': 4901, 'weeknds': 4902, 'plays': 4903, 'wherever': 4904, 'steam': 4905, 'annihilated': 4906, 'russian': 4907, 'russians': 4908, 'tricks': 4909, 'lasts': 4910, 'lovely': 4911, 'carefree': 4912, 'among': 4913, 'sheep': 4914, 'squad': 4915, 'mobbin': 4916, 'hotter': 4917, 'scheme': 4918, 'whyd': 4919, 'steal': 4920, 'windows': 4921, 'tinted': 4922, 'indo': 4923, 'smurder': 4924, 'handful': 4925, 'chasers': 4926, 'hippies': 4927, 'respects': 4928, 'billy': 4929, 'mays': 4930, 'shining': 4931, 'finest': 4932, 'wolves': 4933, 'amount': 4934, 'allow': 4935, 'crumble': 4936, 'ah-ah': 4937, 'tire': 4938, 'average': 4939, 'joe': 4940, 'ahhh': 4941, 'shape': 4942, 'wе': 4943, 'esta': 4944, 'guerra': 4945, 'gana': 4946, 'ninguno': 4947, 'volví': 4948, 'llega': 4949, 'duermo': 4950, 'luz': 4951, 'abierta': 4952, 'tendrás': 4953, 'hacer': 4954, 'printed': 4955, 'typo': 4956, 'consumo': 4957, 'endless': 4958, 'mistletoes': 4959, 'hoe': 4960, 'okey': 4961, 'dokey': 4962, 'uzi': 4963, '16': 4964, 'waldorf': 4965, 'threw': 4966, 'tippin': 4967, 'lick-four': 4968, 'slayed': 4969, 'tahahaha': 4970, 'intenté': 4971, 'payment': 4972, 'paddlin': 4973, 'river': 4974, 'dear': 4975, 'picking': 4976, 'loneliness': 4977, 'filling': 4978, 'curled': 4979, 'bitty': 4980, 'bee': 4981, 'twins': 4982, 'hoffa': 4983, 'havе': 4984, 'flinchin': 4985, 'perform': 4986, 'homе': 4987, 'eggs': 4988, 'cheesy': 4989, 'elijah': 4990, 'muhammad': 4991, 'chorus': 4992, 'tattooed': 4993, 'unwind': 4994, 'deceived': 4995, 'tone': 4996, 'cannes': 4997, 'saint-tropez': 4998, 'cannes-can': 4999, 'saint-tropez-pez': 5000, 'angry': 5001, 'pow-pow': 5002, 'victim': 5003, 'harry': 5004, 'depressed': 5005, 'squeeze': 5006, 'manifested': 5007, '\\u200enow': 5008, 'texting': 5009, 'notice': 5010, 'toy': 5011, 'possess': 5012, 'charm': 5013, 'juancho': 5014, 'repent': 5015, 'low-low': 5016, 'strung': 5017, 'painted': 5018, 'heartbroke': 5019, 'snatch': 5020, 'crucified': 5021, 'cause-i': 5022, 'spin': 5023, 'hearing': 5024, 'president': 5025, 'biden': 5026, 'quote': 5027, 'smoked': 5028, 'blue-eyed': 5029, 'ticket': 5030, 'aisle': 5031, 'equestrian': 5032, 'champion': 5033, 'imagination': 5034, 'ben': 5035, 'ro-rovers': 5036, 'lighter': 5037, 'veil': 5038, 'bastard': 5039, 'plastered': 5040, 'acid': 5041, 'swamp': 5042, 'chopped': 5043, 'h-town': 5044, 'sheesh': 5045, 'youngest': 5046, 'horny': 5047, 'rhino': 5048, 'whiter': 5049, 'albino': 5050, 'dumbass': 5051, 'easily': 5052, 'nonchalance': 5053, 'per': 5054, 'indecisive': 5055, 'promo': 5056, 'refill': 5057, 'pink': 5058, 'damsel': 5059, 'distress': 5060, 'stain': 5061, 'empathy': 5062, 'reactions': 5063, 'barfly': 5064, 'offering': 5065, 'distant': 5066, 'package': 5067, 'unnecessary': 5068, 'tuned': 5069, 'ride-or-die': 5070, 'showing': 5071, 'preaching': 5072, 'honeycomb': 5073, 'affection': 5074, 'pool': 5075, 'dipped': 5076, 'zine': 5077, 'ó': 5078, 'leanbh': 5079, 'thoil': 5080, 'coinnigh': 5081, 'gar': 5082}\n"
     ]
    }
   ],
   "source": [
    "word_counts = Counter(tokens)\n",
    "vocab = sorted(word_counts, key=word_counts.get, reverse=True)\n",
    "vocab = [\"<pad>\"] + vocab\n",
    "vocab_size = len(vocab)\n",
    "word_to_idx = {word: idx for idx, word in enumerate(vocab)}\n",
    "idx_to_word = {idx: word for word, idx in word_to_idx.items()}\n",
    "\n",
    "print(word_to_idx)"
   ]
  },
  {
   "cell_type": "markdown",
   "id": "69209124",
   "metadata": {},
   "source": [
    "# Build Dataset, DataLoader"
   ]
  },
  {
   "cell_type": "code",
   "execution_count": 6,
   "id": "b6bd5bb1",
   "metadata": {},
   "outputs": [],
   "source": [
    "import torch\n",
    "import torch.nn as nn\n",
    "from torch.utils.data import Dataset, DataLoader\n",
    "from torch.nn.utils.rnn import pad_sequence"
   ]
  },
  {
   "cell_type": "code",
   "execution_count": 7,
   "id": "6c295dba",
   "metadata": {
    "scrolled": true
   },
   "outputs": [
    {
     "data": {
      "text/plain": [
       "[['20', 'get', 'the', 'bar', 'rollin', 'fake'],\n",
       " ['get', 'the', 'bar', 'rollin', 'fake', 'i'],\n",
       " ['20', 'get', 'the', 'bar', 'rolling', 'fake'],\n",
       " ['get', 'the', 'bar', 'rolling', 'fake', 'i'],\n",
       " ['20', 'keep', 'the', 'bar', 'rolling', 'fake']]"
      ]
     },
     "execution_count": 7,
     "metadata": {},
     "output_type": "execute_result"
    }
   ],
   "source": [
    "seq_len = 5\n",
    "train_lyrics_list = []\n",
    "\n",
    "# Model takes five input words, and output five words out as each input word's next words prediction\n",
    "for lyric in split_lyrics_list:\n",
    "    if len(lyric) <= seq_len:\n",
    "        train_lyrics_list.append(lyric)\n",
    "        continue\n",
    "    \n",
    "    for i in range(seq_len, len(lyric)):\n",
    "        train_lyrics_list.append(lyric[i - seq_len:i + 1])\n",
    "        \n",
    "train_lyrics_list[:5]"
   ]
  },
  {
   "cell_type": "code",
   "execution_count": 8,
   "id": "3f9d4946",
   "metadata": {},
   "outputs": [],
   "source": [
    "class Lyrics_Dataset(Dataset):\n",
    "    def __init__(self, data):\n",
    "        self.data = data\n",
    "        \n",
    "    def __len__(self):\n",
    "        return len(self.data)\n",
    "    \n",
    "    def __getitem__(self, index):\n",
    "        text = self.data[index]\n",
    "        input_text = text[:-1]\n",
    "        target_text = text[1:]\n",
    "        \n",
    "        return input_text, target_text"
   ]
  },
  {
   "cell_type": "code",
   "execution_count": 9,
   "id": "6a9060cc",
   "metadata": {},
   "outputs": [
    {
     "name": "stdout",
     "output_type": "stream",
     "text": [
      "tensor([[  23,   31,   63,    6,  868],\n",
      "        [ 285,   27, 1740,  403,  387],\n",
      "        [ 981,   18,   51,  168,    3],\n",
      "        [  29,   54,    6,   49,   15],\n",
      "        [  20,   18,   20,   18,   20],\n",
      "        [ 356,  459,    7,   21,    4],\n",
      "        [ 223,   27, 1557,   16,    4],\n",
      "        [ 152,  110,    9,  346,   17]])\n",
      "tensor([[  31,   63,    6,  868,   34],\n",
      "        [  27, 1740,  403,  387,   27],\n",
      "        [  18,   51,  168,    3,  457],\n",
      "        [  54,    6,   49,   15,  293],\n",
      "        [  18,   20,   18,   20,   18],\n",
      "        [ 459,    7,   21,    4,  731],\n",
      "        [  27, 1557,   16,    4,  730],\n",
      "        [ 110,    9,  346,   17,  352]])\n"
     ]
    }
   ],
   "source": [
    "lyrics_dataset = Lyrics_Dataset(train_lyrics_list)\n",
    "batch_size = 8\n",
    "\n",
    "dataloader = DataLoader(lyrics_dataset, batch_size=batch_size, shuffle=True, drop_last=True)\n",
    "\n",
    "# Rewrite collate function to pad the sequences which length shorter than seq_len\n",
    "def collate_fn(batch):\n",
    "    inputs, targets = zip(*batch)\n",
    "#     print(inputs)\n",
    "    inputs = [torch.tensor([word_to_idx[word] for word in input_seq]) for input_seq in inputs]\n",
    "    targets = [torch.tensor([word_to_idx[word] for word in target_seq]) for target_seq in targets]\n",
    "    padded_inputs = pad_sequence(inputs, batch_first=True, padding_value=0)\n",
    "    padded_targets = pad_sequence(targets, batch_first=True, padding_value=0)\n",
    "    return padded_inputs, padded_targets\n",
    "\n",
    "dataloader.collate_fn = collate_fn\n",
    "\n",
    "# i = 0\n",
    "for inputs, labels in dataloader:\n",
    "#     i += 1\n",
    "#     print(i)\n",
    "    print(inputs)\n",
    "    print(labels)\n",
    "    break"
   ]
  },
  {
   "cell_type": "markdown",
   "id": "b17ae313",
   "metadata": {},
   "source": [
    "# Build the LSTM model"
   ]
  },
  {
   "cell_type": "code",
   "execution_count": 10,
   "id": "473f3f9f",
   "metadata": {},
   "outputs": [],
   "source": [
    "class Weekend_LSTM(nn.Module):\n",
    "    def __init__(self, vocab_size, embed_dim, hidden_size, num_layers):\n",
    "        super(Weekend_LSTM, self).__init__()\n",
    "        self.hidden_size = hidden_size\n",
    "        self.num_layers = num_layers\n",
    "        \n",
    "        self.embed = nn.Embedding(vocab_size, embed_dim)\n",
    "        self.lstm1 = nn.LSTM(embed_dim, hidden_size, num_layers, batch_first=True, bidirectional=True)\n",
    "        self.attn = nn.Linear(hidden_size * 2, hidden_size * 2)\n",
    "        self.lstm2 = nn.LSTM(hidden_size * 2, hidden_size * 2, num_layers, batch_first=True, bidirectional=True)\n",
    "        self.dropout = nn.Dropout(0.2)\n",
    "        self.fc = nn.Linear(hidden_size * 4, vocab_size)\n",
    "        \n",
    "    def forward(self, x):\n",
    "        batch_size = x.size(0)\n",
    "        hidden1 = self.init_hidden(self.num_layers * 2, batch_size, self.hidden_size)\n",
    "        hidden2 = self.init_hidden(self.num_layers * 2, batch_size, self.hidden_size*2)\n",
    "        \n",
    "        out = self.embed(x)\n",
    "        out, hidden1 = self.lstm1(out, hidden1)\n",
    "        attn = self.attn(out)\n",
    "        out = torch.mul(out, attn)\n",
    "        out, hidden2 = self.lstm2(out, hidden2)\n",
    "        out = self.dropout(out).reshape(-1, self.hidden_size * 4) \n",
    "        out = self.fc(out)\n",
    "        \n",
    "        return out, hidden2\n",
    "    \n",
    "    def init_hidden(self, num_layers, batch_size, hidden_size):\n",
    "        return (torch.zeros(num_layers, batch_size, hidden_size).to(device),\n",
    "                torch.zeros(num_layers, batch_size, hidden_size).to(device))"
   ]
  },
  {
   "cell_type": "code",
   "execution_count": 11,
   "id": "3c494b53",
   "metadata": {},
   "outputs": [],
   "source": [
    "device = 'cuda' if torch.cuda.is_available() else 'cpu'\n",
    "hidden_size = 128\n",
    "num_layers = 2\n",
    "embed_dim = 256\n",
    "model = Weekend_LSTM(vocab_size, embed_dim, hidden_size, num_layers).to(device)"
   ]
  },
  {
   "cell_type": "code",
   "execution_count": 12,
   "id": "7be458b3",
   "metadata": {},
   "outputs": [
    {
     "name": "stdout",
     "output_type": "stream",
     "text": [
      "Number of parameter: 7.39M\n"
     ]
    }
   ],
   "source": [
    "num_param = sum([param.nelement() for param in model.parameters()])\n",
    "print(\"Number of parameter: %.2fM\" % (num_param/1e6))"
   ]
  },
  {
   "cell_type": "markdown",
   "id": "daba7186",
   "metadata": {},
   "source": [
    "# Train"
   ]
  },
  {
   "cell_type": "code",
   "execution_count": 13,
   "id": "d6e8265b",
   "metadata": {},
   "outputs": [],
   "source": [
    "def get_lr(optimizer):\n",
    "    for param_group in optimizer.param_groups:\n",
    "        return param_group['lr']"
   ]
  },
  {
   "cell_type": "code",
   "execution_count": 14,
   "id": "a43dcf53",
   "metadata": {
    "scrolled": true
   },
   "outputs": [
    {
     "name": "stdout",
     "output_type": "stream",
     "text": [
      "==================== Epoch: 1 ====================\n",
      "\n",
      "step: 1200 loss: 4.088, lr: 0.003\n",
      "step: 2400 loss: 3.336, lr: 0.003\n",
      "step: 3600 loss: 2.944, lr: 0.003\n",
      "==================== Epoch: 2 ====================\n",
      "\n",
      "step: 1200 loss: 1.660, lr: 0.003\n",
      "step: 2400 loss: 1.641, lr: 0.003\n",
      "step: 3600 loss: 1.617, lr: 0.003\n",
      "==================== Epoch: 3 ====================\n",
      "\n",
      "step: 1200 loss: 1.217, lr: 0.003\n",
      "step: 2400 loss: 1.239, lr: 0.003\n",
      "step: 3600 loss: 1.243, lr: 0.003\n",
      "==================== Epoch: 4 ====================\n",
      "\n",
      "step: 1200 loss: 1.010, lr: 0.003\n",
      "step: 2400 loss: 1.044, lr: 0.003\n",
      "step: 3600 loss: 1.063, lr: 0.003\n",
      "==================== Epoch: 5 ====================\n",
      "\n",
      "step: 1200 loss: 0.900, lr: 0.003\n",
      "step: 2400 loss: 0.944, lr: 0.003\n",
      "step: 3600 loss: 0.975, lr: 0.003\n",
      "==================== Epoch: 6 ====================\n",
      "\n",
      "step: 1200 loss: 0.846, lr: 0.003\n",
      "step: 2400 loss: 0.882, lr: 0.003\n",
      "step: 3600 loss: 0.907, lr: 0.003\n",
      "==================== Epoch: 7 ====================\n",
      "\n",
      "step: 1200 loss: 0.790, lr: 0.003\n",
      "step: 2400 loss: 0.827, lr: 0.003\n",
      "step: 3600 loss: 0.857, lr: 0.003\n",
      "==================== Epoch: 8 ====================\n",
      "\n",
      "step: 1200 loss: 0.755, lr: 0.003\n",
      "step: 2400 loss: 0.784, lr: 0.003\n",
      "step: 3600 loss: 0.812, lr: 0.003\n",
      "==================== Epoch: 9 ====================\n",
      "\n",
      "step: 1200 loss: 0.719, lr: 0.003\n",
      "step: 2400 loss: 0.762, lr: 0.003\n",
      "step: 3600 loss: 0.790, lr: 0.003\n",
      "==================== Epoch: 10 ====================\n",
      "\n",
      "step: 1200 loss: 0.693, lr: 0.003\n",
      "step: 2400 loss: 0.727, lr: 0.003\n",
      "step: 3600 loss: 0.752, lr: 0.003\n",
      "==================== Epoch: 11 ====================\n",
      "\n",
      "step: 1200 loss: 0.670, lr: 0.003\n",
      "step: 2400 loss: 0.712, lr: 0.003\n",
      "step: 3600 loss: 0.743, lr: 0.003\n",
      "==================== Epoch: 12 ====================\n",
      "\n",
      "step: 1200 loss: 0.670, lr: 0.003\n",
      "step: 2400 loss: 0.704, lr: 0.003\n",
      "step: 3600 loss: 0.730, lr: 0.003\n",
      "==================== Epoch: 13 ====================\n",
      "\n",
      "step: 1200 loss: 0.639, lr: 0.003\n",
      "step: 2400 loss: 0.669, lr: 0.003\n",
      "step: 3600 loss: 0.696, lr: 0.003\n",
      "==================== Epoch: 14 ====================\n",
      "\n",
      "step: 1200 loss: 0.607, lr: 0.003\n",
      "step: 2400 loss: 0.645, lr: 0.003\n",
      "step: 3600 loss: 0.672, lr: 0.003\n",
      "==================== Epoch: 15 ====================\n",
      "\n",
      "step: 1200 loss: 0.597, lr: 0.003\n",
      "step: 2400 loss: 0.661, lr: 0.003\n",
      "step: 3600 loss: 0.689, lr: 0.003\n",
      "==================== Epoch: 16 ====================\n",
      "\n",
      "step: 1200 loss: 0.594, lr: 0.003\n",
      "step: 2400 loss: 0.636, lr: 0.003\n",
      "step: 3600 loss: 0.667, lr: 0.003\n",
      "==================== Epoch: 17 ====================\n",
      "\n",
      "step: 1200 loss: 0.594, lr: 0.003\n",
      "step: 2400 loss: 0.622, lr: 0.003\n",
      "step: 3600 loss: 0.651, lr: 0.003\n",
      "==================== Epoch: 18 ====================\n",
      "\n",
      "step: 1200 loss: 0.581, lr: 0.003\n",
      "step: 2400 loss: 0.614, lr: 0.003\n",
      "step: 3600 loss: 0.643, lr: 0.003\n",
      "==================== Epoch: 19 ====================\n",
      "\n",
      "step: 1200 loss: 0.571, lr: 0.003\n",
      "step: 2400 loss: 0.599, lr: 0.003\n",
      "step: 3600 loss: 0.626, lr: 0.003\n",
      "==================== Epoch: 20 ====================\n",
      "\n",
      "step: 1200 loss: 0.552, lr: 0.003\n",
      "step: 2400 loss: 0.588, lr: 0.003\n",
      "step: 3600 loss: 0.617, lr: 0.003\n",
      "==================== Epoch: 21 ====================\n",
      "\n",
      "step: 1200 loss: 0.570, lr: 0.003\n",
      "step: 2400 loss: 0.596, lr: 0.003\n",
      "step: 3600 loss: 0.614, lr: 0.003\n",
      "==================== Epoch: 22 ====================\n",
      "\n",
      "step: 1200 loss: 0.555, lr: 0.003\n",
      "step: 2400 loss: 0.575, lr: 0.003\n",
      "step: 3600 loss: 0.600, lr: 0.003\n",
      "==================== Epoch: 23 ====================\n",
      "\n",
      "step: 1200 loss: 0.534, lr: 0.003\n",
      "step: 2400 loss: 0.559, lr: 0.003\n",
      "step: 3600 loss: 0.584, lr: 0.003\n",
      "==================== Epoch: 24 ====================\n",
      "\n",
      "step: 1200 loss: 0.526, lr: 0.003\n",
      "step: 2400 loss: 0.554, lr: 0.003\n",
      "step: 3600 loss: 0.582, lr: 0.003\n",
      "==================== Epoch: 25 ====================\n",
      "\n",
      "step: 1200 loss: 0.511, lr: 0.003\n",
      "step: 2400 loss: 0.535, lr: 0.003\n",
      "step: 3600 loss: 0.563, lr: 0.003\n",
      "==================== Epoch: 26 ====================\n",
      "\n",
      "step: 1200 loss: 0.507, lr: 0.003\n",
      "step: 2400 loss: 0.537, lr: 0.003\n",
      "step: 3600 loss: 0.564, lr: 0.003\n",
      "==================== Epoch: 27 ====================\n",
      "\n",
      "step: 1200 loss: 0.506, lr: 0.003\n",
      "step: 2400 loss: 0.529, lr: 0.003\n",
      "step: 3600 loss: 0.556, lr: 0.003\n",
      "==================== Epoch: 28 ====================\n",
      "\n",
      "step: 1200 loss: 0.497, lr: 0.003\n",
      "step: 2400 loss: 0.525, lr: 0.003\n",
      "step: 3600 loss: 0.550, lr: 0.003\n",
      "==================== Epoch: 29 ====================\n",
      "\n",
      "step: 1200 loss: 0.500, lr: 0.003\n",
      "step: 2400 loss: 0.523, lr: 0.003\n",
      "step: 3600 loss: 0.547, lr: 0.003\n",
      "==================== Epoch: 30 ====================\n",
      "\n",
      "step: 1200 loss: 0.492, lr: 0.003\n",
      "step: 2400 loss: 0.517, lr: 0.003\n",
      "step: 3600 loss: 0.536, lr: 0.003\n",
      "model saved\n"
     ]
    }
   ],
   "source": [
    "import torch.optim as optim\n",
    "\n",
    "epochs = 30\n",
    "lr = 0.003\n",
    "optimizer = optim.Adam(model.parameters(), lr=lr)\n",
    "# lr_scheduler = optim.lr_scheduler.MultiStepLR(optimizer, [30, 45], gamma=0.3, last_epoch=-1)\n",
    "criterion = nn.CrossEntropyLoss()\n",
    "interval = 1200\n",
    "\n",
    "model.train()\n",
    "for epoch in range(epochs):\n",
    "    print(f\"{'='*20} Epoch: {epoch+1} {'='*20}\\n\")\n",
    "    \n",
    "    running_loss = 0.0\n",
    "    for i, data in enumerate(dataloader):\n",
    "        inputs, targets = data\n",
    "        \n",
    "        outputs, hidden = model(inputs.to(device))\n",
    "        loss = criterion(outputs, targets.view(-1).to(device))\n",
    "        loss.backward()\n",
    "        optimizer.step()\n",
    "        optimizer.zero_grad()\n",
    "        \n",
    "        running_loss += loss.item()\n",
    "        if i % interval == interval - 1:\n",
    "            print(f'step: {i + 1} loss: {running_loss / i:.3f}, lr: {get_lr(optimizer)}')\n",
    "\n",
    "#     lr_scheduler.step()\n",
    "\n",
    "model_path = \"model.pth\"\n",
    "torch.save(model, model_path)\n",
    "print(\"model saved\")"
   ]
  },
  {
   "cell_type": "markdown",
   "id": "dd70ca81",
   "metadata": {},
   "source": [
    "# Generate"
   ]
  },
  {
   "cell_type": "code",
   "execution_count": 30,
   "id": "ef09f2e2",
   "metadata": {},
   "outputs": [
    {
     "name": "stdout",
     "output_type": "stream",
     "text": [
      "['i', 'heard', 'you', 'know', 'the', 'dick', 'that', 'you']\n"
     ]
    }
   ],
   "source": [
    "import torch.nn.functional as F\n",
    "import random\n",
    "\n",
    "def predict(model, words, k):\n",
    "    words_idx = [word_to_idx[word] for word in words]\n",
    "    with torch.no_grad():\n",
    "        inputs = torch.tensor([words_idx]).to(device)\n",
    "        hidden_layers = model.init_hidden(num_layers, 1, hidden_size)\n",
    "        # Detach\n",
    "        hidden = tuple([layer.data for layer in hidden_layers])\n",
    "        \n",
    "        out, hidden = model(inputs)\n",
    "        prob = F.softmax(out, dim=1).data\n",
    "        top_value, top_idx = torch.topk(prob, k=k)\n",
    "        choose = [sublist[random.randint(0, k-1)] for sublist in top_idx.tolist()]\n",
    "        \n",
    "        seq = []\n",
    "        for idx in choose:\n",
    "            seq.append(idx_to_word[idx])\n",
    "    return seq\n",
    "\n",
    "# You can choose how long you want the model to output\n",
    "def gen(model, words, k, length):\n",
    "    input_length = len(words)\n",
    "    seq = words\n",
    "    for i in range(length - input_length):\n",
    "        out = predict(model, seq, k)\n",
    "        seq.append(out[-1])\n",
    "    return seq"
   ]
  },
  {
   "cell_type": "code",
   "execution_count": 34,
   "id": "7621d82b",
   "metadata": {},
   "outputs": [
    {
     "name": "stdout",
     "output_type": "stream",
     "text": [
      "['i', 'might', 'get', 'violent', 'in', 'the', 'club', 'like', 'its', 'half']\n"
     ]
    }
   ],
   "source": [
    "inputs = \"i\"\n",
    "input_words = inputs.split()\n",
    "print(gen(model, input_words, 2, 10))"
   ]
  }
 ],
 "metadata": {
  "kernelspec": {
   "display_name": "Python 3 (ipykernel)",
   "language": "python",
   "name": "python3"
  },
  "language_info": {
   "codemirror_mode": {
    "name": "ipython",
    "version": 3
   },
   "file_extension": ".py",
   "mimetype": "text/x-python",
   "name": "python",
   "nbconvert_exporter": "python",
   "pygments_lexer": "ipython3",
   "version": "3.11.4"
  }
 },
 "nbformat": 4,
 "nbformat_minor": 5
}
